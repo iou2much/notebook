{
 "cells": [
  {
   "cell_type": "code",
   "execution_count": 1,
   "metadata": {
    "collapsed": false
   },
   "outputs": [
    {
     "ename": "ImportError",
     "evalue": "No module named findspark",
     "output_type": "error",
     "traceback": [
      "\u001b[1;31m\u001b[0m",
      "\u001b[1;31mImportError\u001b[0mTraceback (most recent call last)",
      "\u001b[1;32m<ipython-input-1-fc2316e13f6d>\u001b[0m in \u001b[0;36m<module>\u001b[1;34m()\u001b[0m\n\u001b[1;32m----> 1\u001b[1;33m \u001b[1;32mimport\u001b[0m \u001b[0mfindspark\u001b[0m\u001b[1;33m\u001b[0m\u001b[0m\n\u001b[0m\u001b[0;32m      2\u001b[0m \u001b[1;33m\u001b[0m\u001b[0m\n\u001b[0;32m      3\u001b[0m \u001b[1;32mimport\u001b[0m \u001b[0mmatplotlib\u001b[0m\u001b[1;33m\u001b[0m\u001b[0m\n\u001b[0;32m      4\u001b[0m \u001b[1;32mimport\u001b[0m \u001b[0mnumpy\u001b[0m \u001b[1;32mas\u001b[0m \u001b[0mnp\u001b[0m\u001b[1;33m\u001b[0m\u001b[0m\n\u001b[0;32m      5\u001b[0m \u001b[1;32mimport\u001b[0m \u001b[0mmatplotlib\u001b[0m\u001b[1;33m.\u001b[0m\u001b[0mpyplot\u001b[0m \u001b[1;32mas\u001b[0m \u001b[0mplt\u001b[0m\u001b[1;33m\u001b[0m\u001b[0m\n",
      "\u001b[1;31mImportError\u001b[0m: No module named findspark"
     ]
    }
   ],
   "source": [
    "\n",
    "import matplotlib\n",
    "import numpy as np\n",
    "import matplotlib.pyplot as plt\n",
    "\"\"\"\n",
    "%matplotlib inline\n",
    "x=np.linspace(0,20,1000)\n",
    "y1=np.sin(x)\n",
    "y2=np.cos(x)\n",
    "plt.plot(x,y1,'-b',label='sine')\n",
    "plt.plot(x,y2,'-r',label='cosine')\n",
    "plt.legend('upper right')\n",
    "plt.ylim(-1.5,2)\n",
    "\"\"\""
   ]
  },
  {
   "cell_type": "code",
   "execution_count": 8,
   "metadata": {
    "collapsed": false,
    "scrolled": true
   },
   "outputs": [
    {
     "ename": "SyntaxError",
     "evalue": "invalid syntax (rrule.py, line 55)",
     "output_type": "error",
     "traceback": [
      "\u001b[1;36m  File \u001b[1;32m\"/usr/local/lib/python3.5/dist-packages/dateutil/rrule.py\"\u001b[1;36m, line \u001b[1;32m55\u001b[0m\n\u001b[1;33m    raise ValueError, \"Can't create weekday with n == 0\"\u001b[0m\n\u001b[1;37m                    ^\u001b[0m\n\u001b[1;31mSyntaxError\u001b[0m\u001b[1;31m:\u001b[0m invalid syntax\n"
     ]
    }
   ],
   "source": []
  },
  {
   "cell_type": "code",
   "execution_count": 13,
   "metadata": {
    "collapsed": false,
    "scrolled": false
   },
   "outputs": [
    {
     "data": {
      "text/plain": [
       "'\\n#一阶差分\\nfig = plt.figure()\\nax1= fig.add_subplot(111)\\ndiff1 = dta.diff(1)\\ndiff1.plot(ax=ax1)\\n#二阶差分\\nfig = plt.figure()\\nax2= fig.add_subplot(111)\\ndiff2 = dta.diff(2)\\ndiff2.plot(ax=ax2)\\n'"
      ]
     },
     "execution_count": 13,
     "metadata": {},
     "output_type": "execute_result"
    }
   ],
   "source": [
    "\"\"\"\n",
    "#一阶差分\n",
    "fig = plt.figure()\n",
    "ax1= fig.add_subplot(111)\n",
    "diff1 = dta.diff(1)\n",
    "diff1.plot(ax=ax1)\n",
    "#二阶差分\n",
    "fig = plt.figure()\n",
    "ax2= fig.add_subplot(111)\n",
    "diff2 = dta.diff(2)\n",
    "diff2.plot(ax=ax2)\n",
    "\"\"\""
   ]
  },
  {
   "cell_type": "code",
   "execution_count": 3,
   "metadata": {
    "collapsed": false,
    "scrolled": false
   },
   "outputs": [
    {
     "data": {
      "text/plain": [
       "2001-12-31     NaN\n",
       "2002-12-31    -612\n",
       "2003-12-31     277\n",
       "2004-12-31     377\n",
       "2005-12-31   -3266\n",
       "2006-12-31    -950\n",
       "2007-12-31    2336\n",
       "2008-12-31    1459\n",
       "2009-12-31    -829\n",
       "2010-12-31    1191\n",
       "2011-12-31     238\n",
       "2012-12-31   -2965\n",
       "2013-12-31   -1764\n",
       "2014-12-31     -85\n",
       "2015-12-31    5312\n",
       "2016-12-31       3\n",
       "2017-12-31   -1342\n",
       "2018-12-31    1733\n",
       "2019-12-31   -4106\n",
       "2020-12-31   -1461\n",
       "2021-12-31    3186\n",
       "2022-12-31     -92\n",
       "2023-12-31     411\n",
       "2024-12-31    -650\n",
       "2025-12-31     118\n",
       "2026-12-31   -2676\n",
       "2027-12-31    -469\n",
       "2028-12-31    3051\n",
       "2029-12-31    1122\n",
       "2030-12-31    -329\n",
       "              ... \n",
       "2061-12-31   -4775\n",
       "2062-12-31   -3201\n",
       "2063-12-31    7769\n",
       "2064-12-31   -1214\n",
       "2065-12-31    1817\n",
       "2066-12-31   -5271\n",
       "2067-12-31     971\n",
       "2068-12-31   -2446\n",
       "2069-12-31   -3705\n",
       "2070-12-31    3329\n",
       "2071-12-31     229\n",
       "2072-12-31    1952\n",
       "2073-12-31   -2434\n",
       "2074-12-31    1130\n",
       "2075-12-31   -3521\n",
       "2076-12-31    -503\n",
       "2077-12-31    5004\n",
       "2078-12-31   -2211\n",
       "2079-12-31    2046\n",
       "2080-12-31     521\n",
       "2081-12-31    -363\n",
       "2082-12-31   -2723\n",
       "2083-12-31   -2609\n",
       "2084-12-31    4091\n",
       "2085-12-31    1314\n",
       "2086-12-31    1050\n",
       "2087-12-31    -574\n",
       "2088-12-31    -585\n",
       "2089-12-31   -3632\n",
       "2090-12-31    -659\n",
       "dtype: float64"
      ]
     },
     "execution_count": 3,
     "metadata": {},
     "output_type": "execute_result"
    }
   ],
   "source": [
    "dta"
   ]
  },
  {
   "cell_type": "code",
   "execution_count": 4,
   "metadata": {
    "collapsed": false
   },
   "outputs": [
    {
     "data": {
      "text/plain": [
       "'\\n'"
      ]
     },
     "execution_count": 4,
     "metadata": {},
     "output_type": "execute_result"
    },
    {
     "data": {
      "image/png": "[encoded data removed]",
      "text/plain": [
       "<matplotlib.figure.Figure at 0x7ffb649f3908>"
      ]
     },
     "metadata": {},
     "output_type": "display_data"
    }
   ],
   "source": [
    "fig = plt.figure()\n",
    "ax1=fig.add_subplot(211)\n",
    "fig = sm.graphics.tsa.plot_acf(dta,lags=40,ax=ax1)\n",
    "\n",
    "ax2 = fig.add_subplot(212)\n",
    "fig = sm.graphics.tsa.plot_pacf(dta,lags=40,ax=ax2)\n",
    "\"\"\"\n",
    "\"\"\"\n"
   ]
  },
  {
   "cell_type": "code",
   "execution_count": 6,
   "metadata": {
    "collapsed": false
   },
   "outputs": [
    {
     "data": {
      "text/plain": [
       "'\\narma_mod20 = sm.tsa.ARMA(dta,(7,0)).fit()\\nprint(arma_mod20.aic,arma_mod20.bic,arma_mod20.hqic)\\n\\narma_mod30 = sm.tsa.ARMA(dta,(0,1)).fit()\\nprint(arma_mod30.aic,arma_mod30.bic,arma_mod30.hqic)\\n\\narma_mod40 = sm.tsa.ARMA(dta,(7,1)).fit()\\nprint(arma_mod40.aic,arma_mod40.bic,arma_mod40.hqic)\\narma_mod50 = sm.tsa.ARMA(dta,(8,0)).fit()\\nprint(arma_mod50.aic,arma_mod50.bic,arma_mod50.hqic)\\n'"
      ]
     },
     "execution_count": 6,
     "metadata": {},
     "output_type": "execute_result"
    }
   ],
   "source": [
    "'''\n",
    "arma_mod20 = sm.tsa.ARMA(dta,(7,0)).fit()\n",
    "print(arma_mod20.aic,arma_mod20.bic,arma_mod20.hqic)\n",
    "\n",
    "arma_mod30 = sm.tsa.ARMA(dta,(0,1)).fit()\n",
    "print(arma_mod30.aic,arma_mod30.bic,arma_mod30.hqic)\n",
    "\n",
    "arma_mod40 = sm.tsa.ARMA(dta,(7,1)).fit()\n",
    "print(arma_mod40.aic,arma_mod40.bic,arma_mod40.hqic)\n",
    "arma_mod50 = sm.tsa.ARMA(dta,(8,0)).fit()\n",
    "print(arma_mod50.aic,arma_mod50.bic,arma_mod50.hqic)\n",
    "'''"
   ]
  },
  {
   "cell_type": "code",
   "execution_count": 27,
   "metadata": {
    "collapsed": false
   },
   "outputs": [
    {
     "ename": "NameError",
     "evalue": "name 'arma_mod20' is not defined",
     "output_type": "error",
     "traceback": [
      "\u001b[1;31m\u001b[0m",
      "\u001b[1;31mNameError\u001b[0mTraceback (most recent call last)",
      "\u001b[1;32m<ipython-input-27-82f4b7dc7454>\u001b[0m in \u001b[0;36m<module>\u001b[1;34m()\u001b[0m\n\u001b[1;32m----> 1\u001b[1;33m \u001b[0mresid\u001b[0m \u001b[1;33m=\u001b[0m \u001b[0marma_mod20\u001b[0m\u001b[1;33m.\u001b[0m\u001b[0mresid\u001b[0m\u001b[1;31m#残差\u001b[0m\u001b[1;33m\u001b[0m\u001b[0m\n\u001b[0m\u001b[0;32m      2\u001b[0m \u001b[0mfig\u001b[0m \u001b[1;33m=\u001b[0m \u001b[0mplt\u001b[0m\u001b[1;33m.\u001b[0m\u001b[0mfigure\u001b[0m\u001b[1;33m(\u001b[0m\u001b[0mfigsize\u001b[0m\u001b[1;33m=\u001b[0m\u001b[1;33m(\u001b[0m\u001b[1;36m12\u001b[0m\u001b[1;33m,\u001b[0m\u001b[1;36m8\u001b[0m\u001b[1;33m)\u001b[0m\u001b[1;33m)\u001b[0m\u001b[1;33m\u001b[0m\u001b[0m\n\u001b[0;32m      3\u001b[0m \u001b[0max\u001b[0m \u001b[1;33m=\u001b[0m \u001b[0mfig\u001b[0m\u001b[1;33m.\u001b[0m\u001b[0madd_subplot\u001b[0m\u001b[1;33m(\u001b[0m\u001b[1;36m111\u001b[0m\u001b[1;33m)\u001b[0m\u001b[1;33m\u001b[0m\u001b[0m\n\u001b[0;32m      4\u001b[0m \u001b[0mfig\u001b[0m \u001b[1;33m=\u001b[0m \u001b[0mqqplot\u001b[0m\u001b[1;33m(\u001b[0m\u001b[0mresid\u001b[0m\u001b[1;33m,\u001b[0m \u001b[0mline\u001b[0m\u001b[1;33m=\u001b[0m\u001b[1;34m'q'\u001b[0m\u001b[1;33m,\u001b[0m \u001b[0max\u001b[0m\u001b[1;33m=\u001b[0m\u001b[0max\u001b[0m\u001b[1;33m,\u001b[0m \u001b[0mfit\u001b[0m\u001b[1;33m=\u001b[0m\u001b[1;32mTrue\u001b[0m\u001b[1;33m)\u001b[0m\u001b[1;33m\u001b[0m\u001b[0m\n",
      "\u001b[1;31mNameError\u001b[0m: name 'arma_mod20' is not defined"
     ]
    }
   ],
   "source": [
    "resid = arma_mod20.resid#残差\n",
    "fig = plt.figure(figsize=(12,8))\n",
    "ax = fig.add_subplot(111)\n",
    "fig = qqplot(resid, line='q', ax=ax, fit=True)\n"
   ]
  }
 ],
 "metadata": {
  "kernelspec": {
   "display_name": "Python 3",
   "language": "python",
   "name": "python3"
  },
  "language_info": {
   "codemirror_mode": {
    "name": "ipython",
    "version": 2
   },
   "file_extension": ".py",
   "mimetype": "text/x-python",
   "name": "python",
   "nbconvert_exporter": "python",
   "pygments_lexer": "ipython2",
   "version": "2.7.11+"
  }
 },
 "nbformat": 4,
 "nbformat_minor": 0
}
