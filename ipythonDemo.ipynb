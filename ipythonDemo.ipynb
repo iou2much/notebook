{
 "cells": [
  {
   "cell_type": "code",
   "execution_count": 1,
   "metadata": {
    "collapsed": false
   },
   "outputs": [
    {
     "name": "stdout",
     "output_type": "stream",
     "text": [
      "You can find your chart at http://localhost:8000/basic_example.html\n"
     ]
    }
   ],
   "source": [
    "import d3py\n",
    "import pandas\n",
    "import numpy as np\n",
    "\n",
    "# some test data\n",
    "T = 100\n",
    "# this is a data frame with three columns (we only use 2)\n",
    "df = pandas.DataFrame({\n",
    "    \"time\" : range(T),\n",
    "    \"pressure\": np.random.rand(T),\n",
    "    \"temp\" : np.random.rand(T)\n",
    "})\n",
    "## build up a figure, ggplot2 style\n",
    "# instantiate the figure object\n",
    "fig = d3py.PandasFigure(df, name=\"basic_example\", width=300, height=300) \n",
    "# add some red points\n",
    "fig += d3py.geoms.Point(x=\"pressure\", y=\"temp\", fill=\"red\")\n",
    "# writes 3 files, starts up a server, then draws some beautiful points in Chrome\n",
    "fig.show() \n"
   ]
  },
  {
   "cell_type": "code",
   "execution_count": 1,
   "metadata": {
    "collapsed": false,
    "run_control": {
     "breakpoint": false,
     "read_only": false
    },
    "scrolled": false
   },
   "outputs": [
    {
     "name": "stdout",
     "output_type": "stream",
     "text": [
      "loaded nvd3 IPython extension\n",
      "run nvd3.ipynb.initialize_javascript() to set up the notebook\n",
      "help(nvd3.ipynb.initialize_javascript) for options\n"
     ]
    },
    {
     "data": {
      "text/plain": [
       "<nvd3.wordChart.wordChart at 0x7fb3d04c62d0>"
      ]
     },
     "execution_count": 1,
     "metadata": {},
     "output_type": "execute_result"
    }
   ],
   "source": [
    "import nvd3\n",
    "reload(nvd3)\n",
    "type = 'wordChart'\n",
    "chart1 = nvd3.wordChart(name=type, color_category='category20c', height=450, width=450)\n",
    "chart1.set_containerheader(\"\\n\\n<h2>\" + type + \"</h2>\\n\\n\")\n",
    "\n",
    "#Create the keys\n",
    "xdata = [\"Orange\", \"Banana\", \"Pear\", \"Kiwi\", \"Apple\", \"Strawberry\", \"Pineapple\"]\n",
    "ydata = [3, 4, 0, 1, 5, 7, 3]\n",
    "\n",
    "#Add the serie\n",
    "extra_serie = {\"tooltip\": {\"y_start\": \"\", \"y_end\": \" cal\"}}\n",
    "chart1.add_serie(y=ydata, x=xdata, extra=extra_serie)\n",
    "chart1"
   ]
  },
  {
   "cell_type": "markdown",
   "metadata": {},
   "source": [
    "<H2>nvd3 IPython integration demo</H2>\n",
    "\n",
    "For more information on nvd3, see https://github.com/areski/python-nvd3\n",
    "\n",
    "This notebook demonstrates simple ipython compatibility in the nvd3-python package, without making any\n",
    "major modifications to how the main package is structured.  It utilizes the IPython display-formatter functionality, as described at:\n",
    "\n",
    "http://nbviewer.ipython.org/github/ipython/ipython/blob/master/examples/notebooks/Custom%20Display%20Logic.ipynb\n",
    "\n",
    "For additional examples, see:\n",
    "\n",
    "https://github.com/sympy/sympy/blob/master/sympy/interactive/printing.py\n",
    "\n",
    "Usage of nvd3-python in IPython notebook should be the same as any other IPython-aware display type.  In any IPython interface which supports HTML views, nvd3-python will display nvd3 chart objects inline.\n"
   ]
  },
  {
   "cell_type": "code",
   "execution_count": 1,
   "metadata": {
    "collapsed": false,
    "run_control": {
     "breakpoint": false,
     "read_only": false
    }
   },
   "outputs": [
    {
     "name": "stdout",
     "output_type": "stream",
     "text": [
      "loaded nvd3 IPython extension\n",
      "run nvd3.ipynb.initialize_javascript() to set up the notebook\n",
      "help(nvd3.ipynb.initialize_javascript) for options\n"
     ]
    },
    {
     "data": {
      "text/html": [
       "<link media=\"all\" href=\"https://cdnjs.cloudflare.com/ajax/libs/nvd3/1.7.0/nv.d3.min.css\" type=\"text/css\"\n",
       "                        rel=\"stylesheet\"/>"
      ],
      "text/plain": [
       "<IPython.core.display.HTML object>"
      ]
     },
     "metadata": {},
     "output_type": "display_data"
    },
    {
     "data": {
      "application/javascript": [
       "$.getScript(\"https://cdnjs.cloudflare.com/ajax/libs/nvd3/1.7.0/nv.d3.min.js\")"
      ],
      "text/plain": [
       "<IPython.core.display.Javascript object>"
      ]
     },
     "metadata": {},
     "output_type": "display_data"
    },
    {
     "data": {
      "application/javascript": [
       "$.getScript(\"https://cdnjs.cloudflare.com/ajax/libs/d3/3.5.5/d3.min.js\", function() {\n",
       "                              $.getScript(\"https://cdnjs.cloudflare.com/ajax/libs/nvd3/1.7.0/nv.d3.min.js\", function() {})});"
      ],
      "text/plain": [
       "<IPython.core.display.Javascript object>"
      ]
     },
     "metadata": {},
     "output_type": "display_data"
    },
    {
     "data": {
      "text/html": [
       "<script src=\"https://cdnjs.cloudflare.com/ajax/libs/d3/3.5.5/d3.min.js\"></script>"
      ],
      "text/plain": [
       "<IPython.core.display.HTML object>"
      ]
     },
     "metadata": {},
     "output_type": "display_data"
    },
    {
     "data": {
      "text/html": [
       "<script src=\"https://cdnjs.cloudflare.com/ajax/libs/nvd3/1.7.0/nv.d3.min.js\"></script>"
      ],
      "text/plain": [
       "<IPython.core.display.HTML object>"
      ]
     },
     "metadata": {},
     "output_type": "display_data"
    }
   ],
   "source": [
    "import random\n",
    "from IPython import display as d\n",
    "import nvd3\n",
    "nvd3.ipynb.initialize_javascript(use_remote=True)"
   ]
  },
  {
   "cell_type": "markdown",
   "metadata": {},
   "source": [
    "Note that the javascript packages for display of nvd3 charts must be loaded into the IPython notebook before charts will display.  By default, these are loaded from http://notebook-hostname:port/files/ - this is the default location where IPython 1.x serves files that are in the local working directory.  For normal usage, the preferred approach is to download d3.v3.js, nv.d3.js, and nv.d3.css and place them in your notebook working directory.\n",
    "\n",
    "However, if we want the notebook to display correctly when using http://nbviewer.ipython.org we must point to remotely hosted versions of the nvd3 and d3 javascript and css files.  Use_remote=true does just this, with the additional capability to individually define the URLs for each file (or use the defaults)."
   ]
  },
  {
   "cell_type": "code",
   "execution_count": 2,
   "metadata": {
    "collapsed": false,
    "run_control": {
     "breakpoint": false,
     "read_only": false
    }
   },
   "outputs": [
    {
     "name": "stdout",
     "output_type": "stream",
     "text": [
      "Help on function initialize_javascript in module nvd3.ipynb:\n",
      "\n",
      "initialize_javascript(d3_js_url='https://cdnjs.cloudflare.com/ajax/libs/d3/3.5.5/d3.min.js', nvd3_js_url='https://cdnjs.cloudflare.com/ajax/libs/nvd3/1.7.0/nv.d3.min.js', nvd3_css_url='https://cdnjs.cloudflare.com/ajax/libs/nvd3/1.7.0/nv.d3.min.css', use_remote=False)\n",
      "    Initialize the ipython notebook to be able to display nvd3 results.\n",
      "    by instructing IPython to load the nvd3 JS and css files, and the d3 JS file.\n",
      "    \n",
      "    by default, it looks for the files in your IPython Notebook working directory.\n",
      "    \n",
      "    Takes the following options:\n",
      "    \n",
      "    use_remote: use remote hosts for d3.js, nvd3.js, and nv.d3.css (default False)\n",
      "    * Note:  the following options are ignored if use_remote is False:\n",
      "    nvd3_css_url: location of nvd3 css file (default https://cdnjs.cloudflare.com/ajax/libs/nvd3/1.7.0/nv.d3.min.css)\n",
      "    nvd3_js_url: location of nvd3 javascript file (default  https://cdnjs.cloudflare.com/ajax/libs/nvd3/1.7.0/nv.d3.min.css)\n",
      "    d3_js_url: location of d3 javascript file (default https://cdnjs.cloudflare.com/ajax/libs/d3/3.5.5/d3.min.js)\n",
      "\n"
     ]
    },
    {
     "data": {
      "text/html": [
       "<link media=\"all\" href=\"https://cdnjs.cloudflare.com/ajax/libs/nvd3/1.7.0/nv.d3.min.css\" type=\"text/css\"\n",
       "                        rel=\"stylesheet\"/>"
      ],
      "text/plain": [
       "<IPython.core.display.HTML object>"
      ]
     },
     "metadata": {},
     "output_type": "display_data"
    },
    {
     "data": {
      "application/javascript": [
       "$.getScript(\"https://cdnjs.cloudflare.com/ajax/libs/nvd3/1.7.0/nv.d3.min.js\")"
      ],
      "text/plain": [
       "<IPython.core.display.Javascript object>"
      ]
     },
     "metadata": {},
     "output_type": "display_data"
    },
    {
     "data": {
      "application/javascript": [
       "$.getScript(\"https://cdnjs.cloudflare.com/ajax/libs/d3/3.5.5/d3.min.js\", function() {\n",
       "                              $.getScript(\"https://cdnjs.cloudflare.com/ajax/libs/nvd3/1.7.0/nv.d3.min.js\", function() {})});"
      ],
      "text/plain": [
       "<IPython.core.display.Javascript object>"
      ]
     },
     "metadata": {},
     "output_type": "display_data"
    },
    {
     "data": {
      "text/html": [
       "<script src=\"https://cdnjs.cloudflare.com/ajax/libs/d3/3.5.5/d3.min.js\"></script>"
      ],
      "text/plain": [
       "<IPython.core.display.HTML object>"
      ]
     },
     "metadata": {},
     "output_type": "display_data"
    },
    {
     "data": {
      "text/html": [
       "<script src=\"https://cdnjs.cloudflare.com/ajax/libs/nvd3/1.7.0/nv.d3.min.js\"></script>"
      ],
      "text/plain": [
       "<IPython.core.display.HTML object>"
      ]
     },
     "metadata": {},
     "output_type": "display_data"
    }
   ],
   "source": [
    "help(nvd3.ipynb.initialize_javascript)\n",
    "nvd3.ipynb.initialize_javascript(use_remote=True)"
   ]
  },
  {
   "cell_type": "markdown",
   "metadata": {},
   "source": [
    "** Stacked Area Chart **\n",
    "\n",
    "Here, we create a simple stacked area chart.\n",
    "\n",
    "Note that there is a potential bug with ipython display of the interactive guideline - the amount of space <i>above</i> the chart affects the placement of the tooltip when viewed in IPython notebook.  A simple workaround is to display the chart at the top of the notebook, rather than lower like we see here."
   ]
  },
  {
   "cell_type": "code",
   "execution_count": 3,
   "metadata": {
    "collapsed": false,
    "run_control": {
     "breakpoint": false,
     "read_only": false
    }
   },
   "outputs": [
    {
     "data": {
      "text/html": [
       "<!DOCTYPE html>\n",
       "<html lang=\"en\">\n",
       "    <head>\n",
       "        <meta charset=\"utf-8\" />\n",
       "        <link href=\"https://cdnjs.cloudflare.com/ajax/libs/nvd3/1.7.0/nv.d3.min.css\" rel=\"stylesheet\" />\n",
       "        <script src=\"https://cdnjs.cloudflare.com/ajax/libs/d3/3.5.5/d3.min.js\"></script>\n",
       "        <script src=\"https://cdnjs.cloudflare.com/ajax/libs/nvd3/1.7.0/nv.d3.min.js\"></script>\n",
       "    </head>\n",
       "    <body>\n",
       "        \n",
       "    <div id=\"stackedareachart\"><svg style=\"width:500px;height:450px;\"></svg></div>\n",
       "\n",
       "\n",
       "    <script>\n",
       "\n",
       "\n",
       "            data_stackedareachart=[{\"values\": [{\"y\": 0, \"x\": 0}, {\"y\": 9, \"x\": 1}, {\"y\": 4, \"x\": 2}, {\"y\": 6, \"x\": 3}, {\"y\": 40, \"x\": 4}, {\"y\": 50, \"x\": 5}, {\"y\": 54, \"x\": 6}, {\"y\": 28, \"x\": 7}, {\"y\": 80, \"x\": 8}, {\"y\": 72, \"x\": 9}, {\"y\": 60, \"x\": 10}, {\"y\": 11, \"x\": 11}, {\"y\": 60, \"x\": 12}, {\"y\": 78, \"x\": 13}, {\"y\": 126, \"x\": 14}, {\"y\": 90, \"x\": 15}, {\"y\": 128, \"x\": 16}, {\"y\": 170, \"x\": 17}, {\"y\": 18, \"x\": 18}, {\"y\": 114, \"x\": 19}, {\"y\": 120, \"x\": 20}, {\"y\": 42, \"x\": 21}, {\"y\": 66, \"x\": 22}, {\"y\": 138, \"x\": 23}, {\"y\": 48, \"x\": 24}, {\"y\": 225, \"x\": 25}, {\"y\": 104, \"x\": 26}, {\"y\": 270, \"x\": 27}, {\"y\": 112, \"x\": 28}, {\"y\": 58, \"x\": 29}, {\"y\": 150, \"x\": 30}, {\"y\": 93, \"x\": 31}, {\"y\": 320, \"x\": 32}, {\"y\": 297, \"x\": 33}, {\"y\": 306, \"x\": 34}, {\"y\": 280, \"x\": 35}, {\"y\": 252, \"x\": 36}, {\"y\": 259, \"x\": 37}, {\"y\": 38, \"x\": 38}, {\"y\": 273, \"x\": 39}, {\"y\": 80, \"x\": 40}, {\"y\": 123, \"x\": 41}, {\"y\": 294, \"x\": 42}, {\"y\": 129, \"x\": 43}, {\"y\": 308, \"x\": 44}, {\"y\": 450, \"x\": 45}, {\"y\": 46, \"x\": 46}, {\"y\": 94, \"x\": 47}, {\"y\": 48, \"x\": 48}, {\"y\": 245, \"x\": 49}], \"key\": \"serie 1\", \"yAxis\": \"1\"}, {\"values\": [{\"y\": 0, \"x\": 0}, {\"y\": 18, \"x\": 1}, {\"y\": 8, \"x\": 2}, {\"y\": 12, \"x\": 3}, {\"y\": 80, \"x\": 4}, {\"y\": 100, \"x\": 5}, {\"y\": 108, \"x\": 6}, {\"y\": 56, \"x\": 7}, {\"y\": 160, \"x\": 8}, {\"y\": 144, \"x\": 9}, {\"y\": 120, \"x\": 10}, {\"y\": 22, \"x\": 11}, {\"y\": 120, \"x\": 12}, {\"y\": 156, \"x\": 13}, {\"y\": 252, \"x\": 14}, {\"y\": 180, \"x\": 15}, {\"y\": 256, \"x\": 16}, {\"y\": 340, \"x\": 17}, {\"y\": 36, \"x\": 18}, {\"y\": 228, \"x\": 19}, {\"y\": 240, \"x\": 20}, {\"y\": 84, \"x\": 21}, {\"y\": 132, \"x\": 22}, {\"y\": 276, \"x\": 23}, {\"y\": 96, \"x\": 24}, {\"y\": 450, \"x\": 25}, {\"y\": 208, \"x\": 26}, {\"y\": 540, \"x\": 27}, {\"y\": 224, \"x\": 28}, {\"y\": 116, \"x\": 29}, {\"y\": 300, \"x\": 30}, {\"y\": 186, \"x\": 31}, {\"y\": 640, \"x\": 32}, {\"y\": 594, \"x\": 33}, {\"y\": 612, \"x\": 34}, {\"y\": 560, \"x\": 35}, {\"y\": 504, \"x\": 36}, {\"y\": 518, \"x\": 37}, {\"y\": 76, \"x\": 38}, {\"y\": 546, \"x\": 39}, {\"y\": 160, \"x\": 40}, {\"y\": 246, \"x\": 41}, {\"y\": 588, \"x\": 42}, {\"y\": 258, \"x\": 43}, {\"y\": 616, \"x\": 44}, {\"y\": 900, \"x\": 45}, {\"y\": 92, \"x\": 46}, {\"y\": 188, \"x\": 47}, {\"y\": 96, \"x\": 48}, {\"y\": 490, \"x\": 49}], \"key\": \"serie 2\", \"yAxis\": \"1\"}, {\"values\": [{\"y\": 0, \"x\": 0}, {\"y\": 45, \"x\": 1}, {\"y\": 20, \"x\": 2}, {\"y\": 30, \"x\": 3}, {\"y\": 200, \"x\": 4}, {\"y\": 250, \"x\": 5}, {\"y\": 270, \"x\": 6}, {\"y\": 140, \"x\": 7}, {\"y\": 400, \"x\": 8}, {\"y\": 360, \"x\": 9}, {\"y\": 300, \"x\": 10}, {\"y\": 55, \"x\": 11}, {\"y\": 300, \"x\": 12}, {\"y\": 390, \"x\": 13}, {\"y\": 630, \"x\": 14}, {\"y\": 450, \"x\": 15}, {\"y\": 640, \"x\": 16}, {\"y\": 850, \"x\": 17}, {\"y\": 90, \"x\": 18}, {\"y\": 570, \"x\": 19}, {\"y\": 600, \"x\": 20}, {\"y\": 210, \"x\": 21}, {\"y\": 330, \"x\": 22}, {\"y\": 690, \"x\": 23}, {\"y\": 240, \"x\": 24}, {\"y\": 1125, \"x\": 25}, {\"y\": 520, \"x\": 26}, {\"y\": 1350, \"x\": 27}, {\"y\": 560, \"x\": 28}, {\"y\": 290, \"x\": 29}, {\"y\": 750, \"x\": 30}, {\"y\": 465, \"x\": 31}, {\"y\": 1600, \"x\": 32}, {\"y\": 1485, \"x\": 33}, {\"y\": 1530, \"x\": 34}, {\"y\": 1400, \"x\": 35}, {\"y\": 1260, \"x\": 36}, {\"y\": 1295, \"x\": 37}, {\"y\": 190, \"x\": 38}, {\"y\": 1365, \"x\": 39}, {\"y\": 400, \"x\": 40}, {\"y\": 615, \"x\": 41}, {\"y\": 1470, \"x\": 42}, {\"y\": 645, \"x\": 43}, {\"y\": 1540, \"x\": 44}, {\"y\": 2250, \"x\": 45}, {\"y\": 230, \"x\": 46}, {\"y\": 470, \"x\": 47}, {\"y\": 240, \"x\": 48}, {\"y\": 1225, \"x\": 49}], \"key\": \"serie 3\", \"yAxis\": \"1\"}];\n",
       "\n",
       "    nv.addGraph(function() {\n",
       "        var chart = nv.models.stackedAreaChart().useInteractiveGuideline(true);\n",
       "\n",
       "        chart.margin({top: 30, right: 60, bottom: 20, left: 60});\n",
       "\n",
       "        var datum = data_stackedareachart;\n",
       "\n",
       "\n",
       "\n",
       "\n",
       "\n",
       "            chart.xAxis\n",
       "                .tickFormat(d3.format(',.2f'));\n",
       "            chart.yAxis\n",
       "                .tickFormat(d3.format(',.2f'));\n",
       "\n",
       "\n",
       "      chart.showLegend(true);\n",
       "\n",
       "\n",
       "\n",
       "        \n",
       "\n",
       "\n",
       "        d3.select('#stackedareachart svg')\n",
       "            .datum(datum)\n",
       "            .transition().duration(500)\n",
       "            .attr('width', 500)\n",
       "            .attr('height', 450)\n",
       "            .call(chart);\n",
       "\n",
       "\n",
       "    });\n",
       "\n",
       "\n",
       "\n",
       "    </script>\n",
       "\n",
       "    </body>\n",
       "</html>"
      ],
      "text/plain": [
       "<nvd3.stackedAreaChart.stackedAreaChart at 0x7f99c6e879d0>"
      ]
     },
     "execution_count": 3,
     "metadata": {},
     "output_type": "execute_result"
    }
   ],
   "source": [
    "type = 'stackedAreaChart'\n",
    "chart2 = nvd3.stackedAreaChart(name=type,height=450,width=500, \n",
    "                               use_interactive_guideline=True)\n",
    "nb_element = 50\n",
    "xdata = range(nb_element)\n",
    "ydata = [i * random.randint(1, 10) for i in range(nb_element)]\n",
    "ydata2 = [x * 2 for x in ydata]\n",
    "ydata3 = [x * 5 for x in ydata]\n",
    "chart2.add_serie(name=\"serie 1\", y=ydata, x=xdata)\n",
    "chart2.add_serie(name=\"serie 2\", y=ydata2, x=xdata)\n",
    "chart2.add_serie(name=\"serie 3\", y=ydata3, x=xdata)\n",
    "chart2\n"
   ]
  },
  {
   "cell_type": "code",
   "execution_count": 4,
   "metadata": {
    "collapsed": false,
    "run_control": {
     "breakpoint": false,
     "read_only": false
    }
   },
   "outputs": [
    {
     "data": {
      "text/html": [
       "<!DOCTYPE html>\n",
       "<html lang=\"en\">\n",
       "    <head>\n",
       "        <meta charset=\"utf-8\" />\n",
       "        <link href=\"https://cdnjs.cloudflare.com/ajax/libs/nvd3/1.7.0/nv.d3.min.css\" rel=\"stylesheet\" />\n",
       "        <script src=\"https://cdnjs.cloudflare.com/ajax/libs/d3/3.5.5/d3.min.js\"></script>\n",
       "        <script src=\"https://cdnjs.cloudflare.com/ajax/libs/nvd3/1.7.0/nv.d3.min.js\"></script>\n",
       "    </head>\n",
       "    <body>\n",
       "        \n",
       "    <div id=\"scatterchart_1\"><svg style=\"width:600px;height:300px;\"></svg></div>\n",
       "\n",
       "\n",
       "    <script>\n",
       "\n",
       "\n",
       "\n",
       "            data_scatterchart_1=[{\"values\": [{\"y\": 0, \"x\": 10, \"shape\": \"circle\", \"size\": \"1\"}, {\"y\": 4, \"x\": 3, \"shape\": \"circle\", \"size\": \"1\"}, {\"y\": 18, \"x\": 11, \"shape\": \"circle\", \"size\": \"1\"}, {\"y\": 6, \"x\": 8, \"shape\": \"circle\", \"size\": \"1\"}, {\"y\": 16, \"x\": 5, \"shape\": \"circle\", \"size\": \"1\"}, {\"y\": 40, \"x\": 9, \"shape\": \"circle\", \"size\": \"1\"}, {\"y\": 12, \"x\": 9, \"shape\": \"circle\", \"size\": \"1\"}, {\"y\": 56, \"x\": 11, \"shape\": \"circle\", \"size\": \"1\"}, {\"y\": 56, \"x\": 9, \"shape\": \"circle\", \"size\": \"1\"}, {\"y\": 54, \"x\": 10, \"shape\": \"circle\", \"size\": \"1\"}, {\"y\": 30, \"x\": 13, \"shape\": \"circle\", \"size\": \"1\"}, {\"y\": 22, \"x\": 16, \"shape\": \"circle\", \"size\": \"1\"}, {\"y\": 12, \"x\": 20, \"shape\": \"circle\", \"size\": \"1\"}, {\"y\": 104, \"x\": 18, \"shape\": \"circle\", \"size\": \"1\"}, {\"y\": 112, \"x\": 16, \"shape\": \"circle\", \"size\": \"1\"}, {\"y\": 120, \"x\": 23, \"shape\": \"circle\", \"size\": \"1\"}, {\"y\": 160, \"x\": 22, \"shape\": \"circle\", \"size\": \"1\"}, {\"y\": 68, \"x\": 18, \"shape\": \"circle\", \"size\": \"1\"}, {\"y\": 18, \"x\": 26, \"shape\": \"circle\", \"size\": \"1\"}, {\"y\": 19, \"x\": 28, \"shape\": \"circle\", \"size\": \"1\"}, {\"y\": 60, \"x\": 24, \"shape\": \"circle\", \"size\": \"1\"}, {\"y\": 210, \"x\": 27, \"shape\": \"circle\", \"size\": \"1\"}, {\"y\": 132, \"x\": 26, \"shape\": \"circle\", \"size\": \"1\"}, {\"y\": 184, \"x\": 33, \"shape\": \"circle\", \"size\": \"1\"}, {\"y\": 120, \"x\": 29, \"shape\": \"circle\", \"size\": \"1\"}, {\"y\": 125, \"x\": 35, \"shape\": \"circle\", \"size\": \"1\"}, {\"y\": 156, \"x\": 36, \"shape\": \"circle\", \"size\": \"1\"}, {\"y\": 189, \"x\": 33, \"shape\": \"circle\", \"size\": \"1\"}, {\"y\": 56, \"x\": 36, \"shape\": \"circle\", \"size\": \"1\"}, {\"y\": 290, \"x\": 32, \"shape\": \"circle\", \"size\": \"1\"}, {\"y\": 120, \"x\": 35, \"shape\": \"circle\", \"size\": \"1\"}, {\"y\": 217, \"x\": 35, \"shape\": \"circle\", \"size\": \"1\"}, {\"y\": 128, \"x\": 34, \"shape\": \"circle\", \"size\": \"1\"}, {\"y\": 132, \"x\": 43, \"shape\": \"circle\", \"size\": \"1\"}, {\"y\": 204, \"x\": 39, \"shape\": \"circle\", \"size\": \"1\"}, {\"y\": 280, \"x\": 42, \"shape\": \"circle\", \"size\": \"1\"}, {\"y\": 288, \"x\": 44, \"shape\": \"circle\", \"size\": \"1\"}, {\"y\": 296, \"x\": 39, \"shape\": \"circle\", \"size\": \"1\"}, {\"y\": 342, \"x\": 39, \"shape\": \"circle\", \"size\": \"1\"}, {\"y\": 390, \"x\": 47, \"shape\": \"circle\", \"size\": \"1\"}, {\"y\": 400, \"x\": 47, \"shape\": \"circle\", \"size\": \"1\"}, {\"y\": 82, \"x\": 49, \"shape\": \"circle\", \"size\": \"1\"}, {\"y\": 378, \"x\": 48, \"shape\": \"circle\", \"size\": \"1\"}, {\"y\": 215, \"x\": 48, \"shape\": \"circle\", \"size\": \"1\"}, {\"y\": 308, \"x\": 50, \"shape\": \"circle\", \"size\": \"1\"}, {\"y\": 405, \"x\": 49, \"shape\": \"circle\", \"size\": \"1\"}, {\"y\": 46, \"x\": 53, \"shape\": \"circle\", \"size\": \"1\"}, {\"y\": 141, \"x\": 53, \"shape\": \"circle\", \"size\": \"1\"}, {\"y\": 192, \"x\": 54, \"shape\": \"circle\", \"size\": \"1\"}, {\"y\": 147, \"x\": 57, \"shape\": \"circle\", \"size\": \"1\"}], \"key\": \"serie 1\", \"yAxis\": \"1\"}, {\"values\": [{\"y\": 0, \"x\": 10, \"shape\": \"cross\", \"size\": \"10\"}, {\"y\": 8, \"x\": 3, \"shape\": \"cross\", \"size\": \"10\"}, {\"y\": 36, \"x\": 11, \"shape\": \"cross\", \"size\": \"10\"}, {\"y\": 12, \"x\": 8, \"shape\": \"cross\", \"size\": \"10\"}, {\"y\": 32, \"x\": 5, \"shape\": \"cross\", \"size\": \"10\"}, {\"y\": 80, \"x\": 9, \"shape\": \"cross\", \"size\": \"10\"}, {\"y\": 24, \"x\": 9, \"shape\": \"cross\", \"size\": \"10\"}, {\"y\": 112, \"x\": 11, \"shape\": \"cross\", \"size\": \"10\"}, {\"y\": 112, \"x\": 9, \"shape\": \"cross\", \"size\": \"10\"}, {\"y\": 108, \"x\": 10, \"shape\": \"cross\", \"size\": \"10\"}, {\"y\": 60, \"x\": 13, \"shape\": \"cross\", \"size\": \"10\"}, {\"y\": 44, \"x\": 16, \"shape\": \"cross\", \"size\": \"10\"}, {\"y\": 24, \"x\": 20, \"shape\": \"cross\", \"size\": \"10\"}, {\"y\": 208, \"x\": 18, \"shape\": \"cross\", \"size\": \"10\"}, {\"y\": 224, \"x\": 16, \"shape\": \"cross\", \"size\": \"10\"}, {\"y\": 240, \"x\": 23, \"shape\": \"cross\", \"size\": \"10\"}, {\"y\": 320, \"x\": 22, \"shape\": \"cross\", \"size\": \"10\"}, {\"y\": 136, \"x\": 18, \"shape\": \"cross\", \"size\": \"10\"}, {\"y\": 36, \"x\": 26, \"shape\": \"cross\", \"size\": \"10\"}, {\"y\": 38, \"x\": 28, \"shape\": \"cross\", \"size\": \"10\"}, {\"y\": 120, \"x\": 24, \"shape\": \"cross\", \"size\": \"10\"}, {\"y\": 420, \"x\": 27, \"shape\": \"cross\", \"size\": \"10\"}, {\"y\": 264, \"x\": 26, \"shape\": \"cross\", \"size\": \"10\"}, {\"y\": 368, \"x\": 33, \"shape\": \"cross\", \"size\": \"10\"}, {\"y\": 240, \"x\": 29, \"shape\": \"cross\", \"size\": \"10\"}, {\"y\": 250, \"x\": 35, \"shape\": \"cross\", \"size\": \"10\"}, {\"y\": 312, \"x\": 36, \"shape\": \"cross\", \"size\": \"10\"}, {\"y\": 378, \"x\": 33, \"shape\": \"cross\", \"size\": \"10\"}, {\"y\": 112, \"x\": 36, \"shape\": \"cross\", \"size\": \"10\"}, {\"y\": 580, \"x\": 32, \"shape\": \"cross\", \"size\": \"10\"}, {\"y\": 240, \"x\": 35, \"shape\": \"cross\", \"size\": \"10\"}, {\"y\": 434, \"x\": 35, \"shape\": \"cross\", \"size\": \"10\"}, {\"y\": 256, \"x\": 34, \"shape\": \"cross\", \"size\": \"10\"}, {\"y\": 264, \"x\": 43, \"shape\": \"cross\", \"size\": \"10\"}, {\"y\": 408, \"x\": 39, \"shape\": \"cross\", \"size\": \"10\"}, {\"y\": 560, \"x\": 42, \"shape\": \"cross\", \"size\": \"10\"}, {\"y\": 576, \"x\": 44, \"shape\": \"cross\", \"size\": \"10\"}, {\"y\": 592, \"x\": 39, \"shape\": \"cross\", \"size\": \"10\"}, {\"y\": 684, \"x\": 39, \"shape\": \"cross\", \"size\": \"10\"}, {\"y\": 780, \"x\": 47, \"shape\": \"cross\", \"size\": \"10\"}, {\"y\": 800, \"x\": 47, \"shape\": \"cross\", \"size\": \"10\"}, {\"y\": 164, \"x\": 49, \"shape\": \"cross\", \"size\": \"10\"}, {\"y\": 756, \"x\": 48, \"shape\": \"cross\", \"size\": \"10\"}, {\"y\": 430, \"x\": 48, \"shape\": \"cross\", \"size\": \"10\"}, {\"y\": 616, \"x\": 50, \"shape\": \"cross\", \"size\": \"10\"}, {\"y\": 810, \"x\": 49, \"shape\": \"cross\", \"size\": \"10\"}, {\"y\": 92, \"x\": 53, \"shape\": \"cross\", \"size\": \"10\"}, {\"y\": 282, \"x\": 53, \"shape\": \"cross\", \"size\": \"10\"}, {\"y\": 384, \"x\": 54, \"shape\": \"cross\", \"size\": \"10\"}, {\"y\": 294, \"x\": 57, \"shape\": \"cross\", \"size\": \"10\"}], \"key\": \"serie 2\", \"yAxis\": \"1\"}, {\"values\": [{\"y\": 0, \"x\": 10, \"shape\": \"triangle-up\", \"size\": \"100\"}, {\"y\": 20, \"x\": 3, \"shape\": \"triangle-up\", \"size\": \"100\"}, {\"y\": 90, \"x\": 11, \"shape\": \"triangle-up\", \"size\": \"100\"}, {\"y\": 30, \"x\": 8, \"shape\": \"triangle-up\", \"size\": \"100\"}, {\"y\": 80, \"x\": 5, \"shape\": \"triangle-up\", \"size\": \"100\"}, {\"y\": 200, \"x\": 9, \"shape\": \"triangle-up\", \"size\": \"100\"}, {\"y\": 60, \"x\": 9, \"shape\": \"triangle-up\", \"size\": \"100\"}, {\"y\": 280, \"x\": 11, \"shape\": \"triangle-up\", \"size\": \"100\"}, {\"y\": 280, \"x\": 9, \"shape\": \"triangle-up\", \"size\": \"100\"}, {\"y\": 270, \"x\": 10, \"shape\": \"triangle-up\", \"size\": \"100\"}, {\"y\": 150, \"x\": 13, \"shape\": \"triangle-up\", \"size\": \"100\"}, {\"y\": 110, \"x\": 16, \"shape\": \"triangle-up\", \"size\": \"100\"}, {\"y\": 60, \"x\": 20, \"shape\": \"triangle-up\", \"size\": \"100\"}, {\"y\": 520, \"x\": 18, \"shape\": \"triangle-up\", \"size\": \"100\"}, {\"y\": 560, \"x\": 16, \"shape\": \"triangle-up\", \"size\": \"100\"}, {\"y\": 600, \"x\": 23, \"shape\": \"triangle-up\", \"size\": \"100\"}, {\"y\": 800, \"x\": 22, \"shape\": \"triangle-up\", \"size\": \"100\"}, {\"y\": 340, \"x\": 18, \"shape\": \"triangle-up\", \"size\": \"100\"}, {\"y\": 90, \"x\": 26, \"shape\": \"triangle-up\", \"size\": \"100\"}, {\"y\": 95, \"x\": 28, \"shape\": \"triangle-up\", \"size\": \"100\"}, {\"y\": 300, \"x\": 24, \"shape\": \"triangle-up\", \"size\": \"100\"}, {\"y\": 1050, \"x\": 27, \"shape\": \"triangle-up\", \"size\": \"100\"}, {\"y\": 660, \"x\": 26, \"shape\": \"triangle-up\", \"size\": \"100\"}, {\"y\": 920, \"x\": 33, \"shape\": \"triangle-up\", \"size\": \"100\"}, {\"y\": 600, \"x\": 29, \"shape\": \"triangle-up\", \"size\": \"100\"}, {\"y\": 625, \"x\": 35, \"shape\": \"triangle-up\", \"size\": \"100\"}, {\"y\": 780, \"x\": 36, \"shape\": \"triangle-up\", \"size\": \"100\"}, {\"y\": 945, \"x\": 33, \"shape\": \"triangle-up\", \"size\": \"100\"}, {\"y\": 280, \"x\": 36, \"shape\": \"triangle-up\", \"size\": \"100\"}, {\"y\": 1450, \"x\": 32, \"shape\": \"triangle-up\", \"size\": \"100\"}, {\"y\": 600, \"x\": 35, \"shape\": \"triangle-up\", \"size\": \"100\"}, {\"y\": 1085, \"x\": 35, \"shape\": \"triangle-up\", \"size\": \"100\"}, {\"y\": 640, \"x\": 34, \"shape\": \"triangle-up\", \"size\": \"100\"}, {\"y\": 660, \"x\": 43, \"shape\": \"triangle-up\", \"size\": \"100\"}, {\"y\": 1020, \"x\": 39, \"shape\": \"triangle-up\", \"size\": \"100\"}, {\"y\": 1400, \"x\": 42, \"shape\": \"triangle-up\", \"size\": \"100\"}, {\"y\": 1440, \"x\": 44, \"shape\": \"triangle-up\", \"size\": \"100\"}, {\"y\": 1480, \"x\": 39, \"shape\": \"triangle-up\", \"size\": \"100\"}, {\"y\": 1710, \"x\": 39, \"shape\": \"triangle-up\", \"size\": \"100\"}, {\"y\": 1950, \"x\": 47, \"shape\": \"triangle-up\", \"size\": \"100\"}, {\"y\": 2000, \"x\": 47, \"shape\": \"triangle-up\", \"size\": \"100\"}, {\"y\": 410, \"x\": 49, \"shape\": \"triangle-up\", \"size\": \"100\"}, {\"y\": 1890, \"x\": 48, \"shape\": \"triangle-up\", \"size\": \"100\"}, {\"y\": 1075, \"x\": 48, \"shape\": \"triangle-up\", \"size\": \"100\"}, {\"y\": 1540, \"x\": 50, \"shape\": \"triangle-up\", \"size\": \"100\"}, {\"y\": 2025, \"x\": 49, \"shape\": \"triangle-up\", \"size\": \"100\"}, {\"y\": 230, \"x\": 53, \"shape\": \"triangle-up\", \"size\": \"100\"}, {\"y\": 705, \"x\": 53, \"shape\": \"triangle-up\", \"size\": \"100\"}, {\"y\": 960, \"x\": 54, \"shape\": \"triangle-up\", \"size\": \"100\"}, {\"y\": 735, \"x\": 57, \"shape\": \"triangle-up\", \"size\": \"100\"}], \"key\": \"serie 3\", \"yAxis\": \"1\"}];\n",
       "\n",
       "\n",
       "        nv.addGraph(function() {\n",
       "        var chart = nv.models.scatterChart();\n",
       "\n",
       "        chart.margin({top: 30, right: 60, bottom: 20, left: 60});\n",
       "\n",
       "        var datum = data_scatterchart_1;\n",
       "\n",
       "\n",
       "\n",
       "                chart.xAxis\n",
       "                .tickFormat(d3.format(',.02f'));\n",
       "            chart.yAxis\n",
       "                .tickFormat(d3.format(',.02f'));\n",
       "\n",
       "\n",
       "\n",
       "          chart.showLegend(true);\n",
       "\n",
       "\n",
       "    \n",
       "\n",
       "        \n",
       "\n",
       "\n",
       "\n",
       "\n",
       "    chart\n",
       "        .showDistX(true)\n",
       "        .showDistY(true)\n",
       "        .color(d3.scale.category10().range());\n",
       "\n",
       "            d3.select('#scatterchart_1 svg')\n",
       "            .datum(datum)\n",
       "            .transition().duration(500)\n",
       "            .attr('width', 600)\n",
       "            .attr('height', 300)\n",
       "            .call(chart);\n",
       "\n",
       "\n",
       "        });\n",
       "\n",
       "\n",
       "\n",
       "    </script>\n",
       "\n",
       "    </body>\n",
       "</html>"
      ],
      "text/plain": [
       "<nvd3.scatterChart.scatterChart at 0x7f99c6ec1a10>"
      ]
     },
     "execution_count": 4,
     "metadata": {},
     "output_type": "execute_result"
    }
   ],
   "source": [
    "chart = nvd3.scatterChart(name='scatterChart_1', width=600, height=300, x_is_date=False)\n",
    "nb_element = 50\n",
    "xdata = [i + random.randint(1, 10) for i in range(nb_element)]\n",
    "ydata = [i * random.randint(1, 10) for i in range(nb_element)]\n",
    "ydata2 = [x * 2 for x in ydata]\n",
    "ydata3 = [x * 5 for x in ydata]\n",
    "\n",
    "kwargs1 = {'shape': 'circle', 'size': '1'}\n",
    "kwargs2 = {'shape': 'cross', 'size': '10'}\n",
    "kwargs3 = {'shape': 'triangle-up', 'size': '100'}\n",
    "\n",
    "extra_serie = {\"tooltip\": {\"y_start\": \"\", \"y_end\": \" calls\"}}\n",
    "chart.add_serie(name=\"serie 1\", y=ydata, x=xdata, extra=extra_serie, **kwargs1)\n",
    "chart.add_serie(name=\"serie 2\", y=ydata2, x=xdata, extra=extra_serie, **kwargs2)\n",
    "chart.add_serie(name=\"serie 3\", y=ydata3, x=xdata, extra=extra_serie, **kwargs3)\n",
    "chart"
   ]
  },
  {
   "cell_type": "code",
   "execution_count": null,
   "metadata": {
    "collapsed": true
   },
   "outputs": [],
   "source": [
    "nvd3."
   ]
  }
 ],
 "metadata": {
  "kernelspec": {
   "display_name": "Python 2",
   "language": "python",
   "name": "python2"
  },
  "language_info": {
   "codemirror_mode": {
    "name": "ipython",
    "version": 2
   },
   "file_extension": ".py",
   "mimetype": "text/x-python",
   "name": "python",
   "nbconvert_exporter": "python",
   "pygments_lexer": "ipython2",
   "version": "2.7.11+"
  }
 },
 "nbformat": 4,
 "nbformat_minor": 0
}
