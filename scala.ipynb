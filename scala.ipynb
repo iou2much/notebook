{
 "cells": [
  {
   "cell_type": "markdown",
   "metadata": {},
   "source": [
    "## macrology 201\n",
    "\n",
    "*\"Macrology 201\" workshop at flatMap 2014*: http://2014.flatmap.no/speakers/burmako.html\n",
    "\n",
    "https://github.com/scalamacros/macrology201\n",
    "\n",
    "jupyter-scala: not much comment in this notebook yet, see the macrology commit descriptions (linked along the way). Only steps 1 to 17 for now.\n",
    "\n",
    "The only pitfalls from jupyter-scala are:\n",
    "* `special.wrap.obj` needs to be imported in cells with macro implementations,\n",
    "* `interpreter.init()` has to be called from time to time after a macro definition and before any call to it.\n",
    "\n",
    "This could be automated in the future.\n",
    "\n",
    "The first point is an \"implementation\" detail: this wraps these macro implementations in singletons rather than classes, which is required for them to be called as macros. About the second point, it can possibly be done in the same cell as the macro implementation (not tested), but in a different cell here than the call to the macro. It re-initializes the compiler instance. Not always needed though, for unknown reasons."
   ]
  },
  {
   "cell_type": "markdown",
   "metadata": {},
   "source": [
    "A definition that will be repeatedly used."
   ]
  },
  {
   "cell_type": "code",
   "execution_count": null,
   "metadata": {
    "collapsed": false
   },
   "outputs": [],
   "source": [
    "class C { override def toString = \"C\" }"
   ]
  },
  {
   "cell_type": "markdown",
   "metadata": {},
   "source": [
    "## Part 1\n",
    "\n",
    "https://github.com/scalamacros/macrology201/commits/part1"
   ]
  },
  {
   "cell_type": "markdown",
   "metadata": {},
   "source": [
    "### step 0: Initializing\n",
    "\n",
    "https://github.com/scalamacros/macrology201/commit/05b496295e7ef9c7a41d7cabeaf326d819d54198"
   ]
  },
  {
   "cell_type": "code",
   "execution_count": 2,
   "metadata": {
    "collapsed": false
   },
   "outputs": [
    {
     "data": {
      "text/plain": [
       "\u001b[32mimport \u001b[36mscala.language.experimental.macros\u001b[0m\n",
       "\u001b[32mimport \u001b[36mscala.reflect.macros.blackbox.Context\u001b[0m\n",
       "defined \u001b[32mobject \u001b[36mMacros\u001b[0m"
      ]
     },
     "metadata": {},
     "output_type": "display_data"
    }
   ],
   "source": [
    "import special.wrap.obj\n",
    "import scala.language.experimental.macros\n",
    "import scala.reflect.macros.blackbox.Context\n",
    "\n",
    "object Macros {\n",
    "  def impl(c: Context): c.Tree = {\n",
    "    import c.universe._\n",
    "    q\"\"\"println(\"Hello World\")\"\"\"\n",
    "  }\n",
    "\n",
    "  def hello: Unit = macro impl\n",
    "}"
   ]
  },
  {
   "cell_type": "code",
   "execution_count": 3,
   "metadata": {
    "collapsed": false
   },
   "outputs": [
    {
     "name": "stdout",
     "output_type": "stream",
     "text": [
      "Hello World\n"
     ]
    },
    {
     "data": {
      "text/plain": []
     },
     "metadata": {},
     "output_type": "display_data"
    }
   ],
   "source": [
    "Macros.hello"
   ]
  },
  {
   "cell_type": "markdown",
   "metadata": {},
   "source": [
    "### step 1: definition of Optional[A] and signature for getOrElse \n",
    "### step 2: can't seem to make a non-macro implementation inlined \n",
    "\n",
    "https://github.com/scalamacros/macrology201/commit/e5ca9e5f716536856475057d6ed3ea6287720c12\n",
    "https://github.com/scalamacros/macrology201/commit/69bb76b1360406c421e86bdeeba40b286d741649"
   ]
  },
  {
   "cell_type": "code",
   "execution_count": 4,
   "metadata": {
    "collapsed": false
   },
   "outputs": [
    {
     "data": {
      "text/plain": [
       "\u001b[32mimport \u001b[36mscala.language.experimental.macros\u001b[0m\n",
       "\u001b[32mimport \u001b[36mscala.reflect.macros.blackbox.Context\u001b[0m\n",
       "defined \u001b[32mclass \u001b[36mOptional\u001b[0m"
      ]
     },
     "metadata": {},
     "output_type": "display_data"
    }
   ],
   "source": [
    "import special.wrap.obj\n",
    "import scala.language.experimental.macros\n",
    "import scala.reflect.macros.blackbox.Context\n",
    "\n",
    "// Allocation-free option type for Scala\n",
    "// Inspired by https://github.com/arosenberger/nalloc\n",
    "\n",
    "final class Optional[+A >: Null](val value: A) extends AnyVal {\n",
    "  def get: A = value\n",
    "  def isEmpty = value == null\n",
    "  @inline final def getOrElse[B >: A](alt: => B): B = if (isEmpty) alt else value\n",
    "  override def toString = if (isEmpty) \"<empty>\" else s\"$value\"\n",
    "}"
   ]
  },
  {
   "cell_type": "code",
   "execution_count": 5,
   "metadata": {
    "collapsed": false
   },
   "outputs": [
    {
     "name": "stdout",
     "output_type": "stream",
     "text": [
      "C\n",
      "<empty>\n"
     ]
    },
    {
     "data": {
      "text/plain": [
       "\u001b[36mx\u001b[0m: \u001b[32mspecialObjCmd3.Optional[cmd4.INSTANCE.$ref$cmd0.C]\u001b[0m = C\n",
       "\u001b[36my\u001b[0m: \u001b[32mspecialObjCmd3.Optional[Null]\u001b[0m = <empty>"
      ]
     },
     "metadata": {},
     "output_type": "display_data"
    }
   ],
   "source": [
    "val x = new Optional(new C)\n",
    "println(x)\n",
    "val y = new Optional(null)\n",
    "println(y)"
   ]
  },
  {
   "cell_type": "code",
   "execution_count": 6,
   "metadata": {
    "collapsed": false
   },
   "outputs": [
    {
     "name": "stdout",
     "output_type": "stream",
     "text": [
      "(C,C)\n",
      "hello\n",
      "(<empty>,C)\n"
     ]
    },
    {
     "data": {
      "text/plain": [
       "\u001b[36mx\u001b[0m: \u001b[32mspecialObjCmd3.Optional[cmd5.INSTANCE.$ref$cmd0.C]\u001b[0m = C\n",
       "\u001b[36mx1\u001b[0m: \u001b[32mcmd5.INSTANCE.$ref$cmd0.C\u001b[0m = C\n",
       "\u001b[36my\u001b[0m: \u001b[32mspecialObjCmd3.Optional[Null]\u001b[0m = <empty>\n",
       "\u001b[36my1\u001b[0m: \u001b[32mcmd5.INSTANCE.$ref$cmd0.C\u001b[0m = C"
      ]
     },
     "metadata": {},
     "output_type": "display_data"
    }
   ],
   "source": [
    "val x = new Optional(new C)\n",
    "val x1 = x.getOrElse(new C)\n",
    "println(x, x1)\n",
    "\n",
    "val y = new Optional(null)\n",
    "val y1 = y.getOrElse({ println(\"hello\"); new C })\n",
    "println(y, y1)"
   ]
  },
  {
   "cell_type": "markdown",
   "metadata": {},
   "source": [
    "### step 3: first attempt at writing the getOrElse macro, type error in expansion\n",
    "\n",
    "https://github.com/scalamacros/macrology201/commit/ade3046228ea6afb4e1cf33c146f9ace87afd2cd"
   ]
  },
  {
   "cell_type": "code",
   "execution_count": 7,
   "metadata": {
    "collapsed": false
   },
   "outputs": [
    {
     "data": {
      "text/plain": [
       "\u001b[32mimport \u001b[36mscala.language.experimental.macros\u001b[0m\n",
       "\u001b[32mimport \u001b[36mscala.reflect.macros.blackbox.Context\u001b[0m\n",
       "defined \u001b[32mclass \u001b[36mOptional\u001b[0m\n",
       "defined \u001b[32mclass \u001b[36mOptionalMacros\u001b[0m"
      ]
     },
     "metadata": {},
     "output_type": "display_data"
    }
   ],
   "source": [
    "import special.wrap.obj\n",
    "import scala.language.experimental.macros\n",
    "import scala.reflect.macros.blackbox.Context\n",
    "\n",
    "// Allocation-free option type for Scala\n",
    "// Inspired by https://github.com/arosenberger/nalloc\n",
    "\n",
    "final class Optional[+A >: Null](val value: A) extends AnyVal {\n",
    "  def get: A = value\n",
    "  def isEmpty = value == null\n",
    "  // @inline final def getOrElse[B >: A](alt: => B): B = if (isEmpty) alt else value\n",
    "  def getOrElse[B >: A](alt: => B): B = macro OptionalMacros.getOrElse\n",
    "  override def toString = if (isEmpty) \"<empty>\" else s\"$value\"\n",
    "}\n",
    "\n",
    "class OptionalMacros(val c: Context) {\n",
    "  def getOrElse(alt: c.Tree): c.Tree = {\n",
    "    import c.universe._\n",
    "    q\"if (isEmpty) $alt else value\"\n",
    "  }\n",
    "}"
   ]
  },
  {
   "cell_type": "code",
   "execution_count": 8,
   "metadata": {
    "collapsed": false
   },
   "outputs": [
    {
     "ename": "",
     "evalue": "",
     "output_type": "error",
     "traceback": [
      "Compilation Failed",
      "\u001b[31mMain.scala:61: macro implementation not found: getOrElse",
      "(the most common reason for that is that you cannot use macro implementations in the same compilation run that defines them)",
      "                val x = new Optional(new C) ; val x1 = x.getOrElse(new C) ; val res7_2 = (",
      "                                                                  ^\u001b[0m"
     ]
    }
   ],
   "source": [
    "val x = new Optional(new C)\n",
    "val x1 = x.getOrElse(new C)\n",
    "println(x, x1)\n",
    "\n",
    "val y = new Optional(null)\n",
    "val y1 = y.getOrElse({ println(\"hello\"); new C })\n",
    "println(y, y1)"
   ]
  },
  {
   "cell_type": "markdown",
   "metadata": {},
   "source": [
    "The above error is expected."
   ]
  },
  {
   "cell_type": "markdown",
   "metadata": {},
   "source": [
    "### step 4: trying to debug the expansion failure using showCode, not much luck so far\n",
    "\n",
    "https://github.com/scalamacros/macrology201/commit/c1d40e02ad74415a26c3888ea7f0f3d330e587ca"
   ]
  },
  {
   "cell_type": "code",
   "execution_count": 9,
   "metadata": {
    "collapsed": false
   },
   "outputs": [
    {
     "data": {
      "text/plain": [
       "\u001b[32mimport \u001b[36mscala.language.experimental.macros\u001b[0m\n",
       "\u001b[32mimport \u001b[36mscala.reflect.macros.blackbox.Context\u001b[0m\n",
       "defined \u001b[32mclass \u001b[36mOptional\u001b[0m\n",
       "defined \u001b[32mclass \u001b[36mOptionalMacros\u001b[0m"
      ]
     },
     "metadata": {},
     "output_type": "display_data"
    }
   ],
   "source": [
    "import special.wrap.obj\n",
    "import scala.language.experimental.macros\n",
    "import scala.reflect.macros.blackbox.Context\n",
    "\n",
    "// Allocation-free option type for Scala\n",
    "// Inspired by https://github.com/arosenberger/nalloc\n",
    "\n",
    "final class Optional[+A >: Null](val value: A) extends AnyVal {\n",
    "  def get: A = value\n",
    "  def isEmpty = value == null\n",
    "  // @inline final def getOrElse[B >: A](alt: => B): B = if (isEmpty) alt else value\n",
    "  def getOrElse[B >: A](alt: => B): B = macro OptionalMacros.getOrElse\n",
    "  override def toString = if (isEmpty) \"<empty>\" else s\"$value\"\n",
    "}\n",
    "\n",
    "class OptionalMacros(val c: Context) {\n",
    "  def getOrElse(alt: c.Tree): c.Tree = {\n",
    "    import c.universe._\n",
    "    val result = q\"if (isEmpty) $alt else value\"\n",
    "    println(showCode(result))\n",
    "    result\n",
    "  }\n",
    "}"
   ]
  },
  {
   "cell_type": "code",
   "execution_count": 10,
   "metadata": {
    "collapsed": false
   },
   "outputs": [
    {
     "ename": "",
     "evalue": "",
     "output_type": "error",
     "traceback": [
      "Compilation Failed",
      "\u001b[31mMain.scala:61: macro implementation not found: getOrElse",
      "(the most common reason for that is that you cannot use macro implementations in the same compilation run that defines them)",
      "                val x = new Optional(new C) ; val x1 = x.getOrElse(new C) ; val res8_2 = (",
      "                                                                  ^\u001b[0m"
     ]
    }
   ],
   "source": [
    "val x = new Optional(new C)\n",
    "val x1 = x.getOrElse(new C)\n",
    "println(x, x1)\n",
    "\n",
    "val y = new Optional(null)\n",
    "val y1 = y.getOrElse({ println(\"hello\"); new C })\n",
    "println(y, y1)"
   ]
  },
  {
   "cell_type": "markdown",
   "metadata": {},
   "source": [
    "The above error is expected."
   ]
  },
  {
   "cell_type": "markdown",
   "metadata": {},
   "source": [
    "### step 5: -Xprint:typer reveals the big picture, finally making the bug apparent\n",
    "\n",
    "https://github.com/scalamacros/macrology201/commit/1353dbb761b0c5aaadce1b10c9ab1deb70e087c4"
   ]
  },
  {
   "cell_type": "code",
   "execution_count": 11,
   "metadata": {
    "collapsed": false
   },
   "outputs": [
    {
     "name": "stdout",
     "output_type": "stream",
     "text": [
      "[[syntax trees at end of                     typer]] // Main.scala\n",
      "package <empty> {\n",
      "  object $dummy extends scala.AnyRef {\n",
      "    def <init>(): $dummy.type = {\n",
      "      $dummy.super.<init>();\n",
      "      ()\n",
      "    }\n",
      "  }\n",
      "}\n",
      "\n"
     ]
    },
    {
     "data": {
      "text/plain": []
     },
     "metadata": {},
     "output_type": "display_data"
    }
   ],
   "source": [
    "interpreter.init(Seq(\"-Xprint:typer\"))"
   ]
  },
  {
   "cell_type": "code",
   "execution_count": 12,
   "metadata": {
    "collapsed": false
   },
   "outputs": [
    {
     "name": "stdout",
     "output_type": "stream",
     "text": [
      "[[syntax trees at end of                     typer]] // Main.scala\n",
      "package <empty> {\n",
      "  import ammonite.api.IvyConstructor.{ArtifactIdExt, GroupIdExt, ResolverNameExt};\n",
      "  import scala.reflect.macros.blackbox.Context;\n",
      "  import specialObjCmd7.OptionalMacros;\n",
      "  import ReplBridge.shell.{load, publish, evidence, pprintConfig, interpreter};\n",
      "  import scala.language.experimental.macros;\n",
      "  object specialObjCmd9$Main extends scala.AnyRef {\n",
      "    def <init>(): specialObjCmd9$Main.type = {\n",
      "      specialObjCmd9$Main.super.<init>();\n",
      "      ()\n",
      "    };\n",
      "    def $main(): Iterator[Iterator[String]] = {\n",
      "      val $user: specialObjCmd9.type = specialObjCmd9;\n",
      "      scala.`package`.Iterator.apply[Iterator[String]](scala.`package`.Iterator.apply[String](ReplBridge.shell.shellPrintImport(\"scala.language.experimental.macros\")), scala.`package`.Iterator.apply[String](ReplBridge.shell.shellPrintImport(\"scala.reflect.macros.blackbox.Context\")), scala.`package`.Iterator.apply[String](ReplBridge.shell.shellPrintDef(\"class\", \"Optional\")), scala.`package`.Iterator.apply[String](ReplBridge.shell.shellPrintDef(\"class\", \"OptionalMacros\")))\n",
      "    }\n",
      "  };\n",
      "  object specialObjCmd9 extends scala.AnyRef {\n",
      "    def <init>(): specialObjCmd9.type = {\n",
      "      specialObjCmd9.super.<init>();\n",
      "      ()\n",
      "    };\n",
      "    import scala.language.experimental.macros;\n",
      "    import scala.reflect.macros.blackbox.Context;\n",
      "    final class Optional[+A >: Null] extends scala.AnyVal {\n",
      "      <paramaccessor> private[this] val value: A = _;\n",
      "      <stable> <accessor> <paramaccessor> def value: A = Optional.this.value;\n",
      "      def <init>(value: A): specialObjCmd9.Optional[A] = {\n",
      "        Optional.super.<init>();\n",
      "        ()\n",
      "      };\n",
      "      def get: A = Optional.this.value;\n",
      "      def isEmpty: Boolean = Optional.this.value.==(null);\n",
      "      @scala.reflect.macros.internal.macroImpl(`macro`(\"macroEngine\" = \"v7.0 (implemented in Scala 2.11.0-M8)\", \"isBundle\" = true, \"isBlackbox\" = true, \"className\" = \"specialObjCmd9$OptionalMacros\", \"methodName\" = \"getOrElse\", \"signature\" = List(List(-3)))) <macro> def getOrElse[B >: A](alt: => B): B = new specialObjCmd9.this.OptionalMacros(null).getOrElse;\n",
      "      override def toString: String = if (Optional.this.isEmpty)\n",
      "        \"<empty>\"\n",
      "      else\n",
      "        scala.StringContext.apply(\"\", \"\").s(Optional.this.value);\n",
      "      override <synthetic> def hashCode(): Int = Optional.this.value.hashCode();\n",
      "      override <synthetic> def equals(x$1: Any): Boolean = x$1 match {\n",
      "  case (_: specialObjCmd9.Optional[A]) => true\n",
      "  case _ => false\n",
      "}.&&({\n",
      "        <synthetic> val Optional$1: specialObjCmd9.Optional[A] = x$1.asInstanceOf[specialObjCmd9.Optional[A]];\n",
      "        Optional.this.value.==(Optional$1.value)\n",
      "      })\n",
      "    };\n",
      "    <synthetic> object Optional extends AnyRef {\n",
      "      def <init>(): specialObjCmd9.Optional.type = {\n",
      "        Optional.super.<init>();\n",
      "        ()\n",
      "      }\n",
      "    };\n",
      "    class OptionalMacros extends scala.AnyRef {\n",
      "      <paramaccessor> private[this] val c: scala.reflect.macros.blackbox.Context = _;\n",
      "      <stable> <accessor> <paramaccessor> def c: scala.reflect.macros.blackbox.Context = OptionalMacros.this.c;\n",
      "      def <init>(c: scala.reflect.macros.blackbox.Context): specialObjCmd9.OptionalMacros = {\n",
      "        OptionalMacros.super.<init>();\n",
      "        ()\n",
      "      };\n",
      "      def getOrElse(alt: OptionalMacros.this.c.Tree): OptionalMacros.this.c.Tree = {\n",
      "        import OptionalMacros.this.c.universe._;\n",
      "        OptionalMacros.this.c.universe.If.apply(OptionalMacros.this.c.universe.internal.reificationSupport.SyntacticTermIdent.apply(OptionalMacros.this.c.universe.TermName.apply(\"isEmpty\"), false), alt, OptionalMacros.this.c.universe.internal.reificationSupport.SyntacticTermIdent.apply(OptionalMacros.this.c.universe.TermName.apply(\"value\"), false))\n",
      "      }\n",
      "    }\n",
      "  }\n",
      "}\n",
      "\n"
     ]
    },
    {
     "data": {
      "text/plain": [
       "\u001b[32mimport \u001b[36mscala.language.experimental.macros\u001b[0m\n",
       "\u001b[32mimport \u001b[36mscala.reflect.macros.blackbox.Context\u001b[0m\n",
       "defined \u001b[32mclass \u001b[36mOptional\u001b[0m\n",
       "defined \u001b[32mclass \u001b[36mOptionalMacros\u001b[0m"
      ]
     },
     "metadata": {},
     "output_type": "display_data"
    }
   ],
   "source": [
    "import special.wrap.obj\n",
    "import scala.language.experimental.macros\n",
    "import scala.reflect.macros.blackbox.Context\n",
    "\n",
    "// Allocation-free option type for Scala\n",
    "// Inspired by https://github.com/arosenberger/nalloc\n",
    "\n",
    "final class Optional[+A >: Null](val value: A) extends AnyVal {\n",
    "  def get: A = value\n",
    "  def isEmpty = value == null\n",
    "  // @inline final def getOrElse[B >: A](alt: => B): B = if (isEmpty) alt else value\n",
    "  def getOrElse[B >: A](alt: => B): B = macro OptionalMacros.getOrElse\n",
    "  override def toString = if (isEmpty) \"<empty>\" else s\"$value\"\n",
    "}\n",
    "\n",
    "class OptionalMacros(val c: Context) {\n",
    "  def getOrElse(alt: c.Tree): c.Tree = {\n",
    "    import c.universe._\n",
    "    q\"if (isEmpty) $alt else value\"\n",
    "  }\n",
    "}"
   ]
  },
  {
   "cell_type": "code",
   "execution_count": 13,
   "metadata": {
    "collapsed": false
   },
   "outputs": [
    {
     "name": "stdout",
     "output_type": "stream",
     "text": [
      "[[syntax trees at end of                     typer]] // Main.scala\n",
      "package <empty> {\n",
      "  object cmd10$Main extends scala.AnyRef {\n",
      "    def <init>(): cmd10$Main.type = {\n",
      "      cmd10$Main.super.<init>();\n",
      "      ()\n",
      "    };\n",
      "    private[this] val $ref$cmd0: cmd0.INSTANCE.$user.type = cmd0.INSTANCE.$user;\n",
      "    <stable> <accessor> def $ref$cmd0: cmd0.INSTANCE.$user.type = cmd10$Main.this.$ref$cmd0;\n",
      "    private[this] val $ref$cmd5: cmd5.INSTANCE.$user.type = cmd5.INSTANCE.$user;\n",
      "    <stable> <accessor> def $ref$cmd5: cmd5.INSTANCE.$user.type = cmd10$Main.this.$ref$cmd5;\n",
      "    import ammonite.api.IvyConstructor.{ArtifactIdExt, ResolverNameExt, GroupIdExt};\n",
      "    import specialObjCmd9.Optional;\n",
      "    import ReplBridge.shell.{load, publish, evidence, pprintConfig, interpreter};\n",
      "    import scala.language.experimental.macros;\n",
      "    import cmd10$Main.this.$ref$cmd0.C;\n",
      "    import cmd10$Main.this.$ref$cmd5.{y1, y, x1, x};\n",
      "    def $main(): Iterator[Iterator[String]] = {\n",
      "      val $user: cmd10.INSTANCE.$user.type = cmd10.INSTANCE.$user;\n",
      "      scala.`package`.Iterator.apply[Iterator[String]](scala.`package`.Iterator.apply[String](ReplBridge.shell.shellPPrint[specialObjCmd9.Optional[cmd10.INSTANCE.$ref$cmd0.C]]($user.x, \"x\")(({\n",
      "  val $u: reflect.runtime.universe.type = scala.reflect.runtime.`package`.universe;\n",
      "  val $m: $u.Mirror = scala.reflect.runtime.`package`.universe.runtimeMirror(this.getClass().getClassLoader());\n",
      "  $u.TypeTag.apply[specialObjCmd9.Optional[cmd10.INSTANCE.$ref$cmd0.C]]($m, {\n",
      "    final class $typecreator1 extends TypeCreator {\n",
      "      def <init>(): $typecreator1 = {\n",
      "        $typecreator1.super.<init>();\n",
      "        ()\n",
      "      };\n",
      "      def apply[U <: scala.reflect.api.Universe with Singleton]($m$untyped: scala.reflect.api.Mirror[U]): U#Type = {\n",
      "        val $u: U = $m$untyped.universe;\n",
      "        val $m: $u.Mirror = $m$untyped.asInstanceOf[$u.Mirror];\n",
      "        $u.internal.reificationSupport.TypeRef($u.internal.reificationSupport.SingleType($u.internal.reificationSupport.thisPrefix($m.EmptyPackageClass), $m.staticModule(\"specialObjCmd9\")), $u.internal.reificationSupport.selectType($m.staticModule(\"specialObjCmd9\").asModule.moduleClass, \"Optional\"), scala.collection.immutable.List.apply[$u.Type]($u.internal.reificationSupport.TypeRef($u.internal.reificationSupport.SingleType($u.internal.reificationSupport.SingleType($u.internal.reificationSupport.SingleType($u.internal.reificationSupport.thisPrefix($m.EmptyPackageClass), $m.staticModule(\"cmd10\")), $u.internal.reificationSupport.selectTerm($m.staticModule(\"cmd10\").asModule.moduleClass, \"INSTANCE\")), $u.internal.reificationSupport.selectTerm($m.staticClass(\"cmd10\"), \"$ref$cmd0\")), $u.internal.reificationSupport.selectType($u.internal.reificationSupport.selectType($m.staticClass(\"cmd0\"), \"$user\"), \"C\"), immutable.this.Nil)))\n",
      "      }\n",
      "    };\n",
      "    new $typecreator1()\n",
      "  })\n",
      "}: reflect.runtime.universe.WeakTypeTag[specialObjCmd9.Optional[cmd10.INSTANCE.$ref$cmd0.C]]))).++[String](scala.`package`.Iterator.apply[String](\" = \")).++[String](ammonite.pprint.PPrint.apply[specialObjCmd9.Optional[cmd10.INSTANCE.$ref$cmd0.C]]($user.x)((new ammonite.pprint.PPrint[specialObjCmd9.Optional[cmd10.INSTANCE.$ref$cmd0.C]](ammonite.pprint.PPrinter.Literal, scala.this.Predef.implicitly[ammonite.pprint.Config](ReplBridge.shell.pprintConfig)): ammonite.pprint.PPrint[specialObjCmd9.Optional[cmd10.INSTANCE.$ref$cmd0.C]]))), scala.`package`.Iterator.apply[String](ReplBridge.shell.shellPPrint[cmd10.INSTANCE.$ref$cmd0.C]($user.x1, \"x1\")(({\n",
      "  val $u: reflect.runtime.universe.type = scala.reflect.runtime.`package`.universe;\n",
      "  val $m: $u.Mirror = scala.reflect.runtime.`package`.universe.runtimeMirror(this.getClass().getClassLoader());\n",
      "  $u.TypeTag.apply[cmd10.INSTANCE.$ref$cmd0.C]($m, {\n",
      "    final class $typecreator2 extends TypeCreator {\n",
      "      def <init>(): $typecreator2 = {\n",
      "        $typecreator2.super.<init>();\n",
      "        ()\n",
      "      };\n",
      "      def apply[U <: scala.reflect.api.Universe with Singleton]($m$untyped: scala.reflect.api.Mirror[U]): U#Type = {\n",
      "        val $u: U = $m$untyped.universe;\n",
      "        val $m: $u.Mirror = $m$untyped.asInstanceOf[$u.Mirror];\n",
      "        $u.internal.reificationSupport.TypeRef($u.internal.reificationSupport.SingleType($u.internal.reificationSupport.SingleType($u.internal.reificationSupport.SingleType($u.internal.reificationSupport.thisPrefix($m.EmptyPackageClass), $m.staticModule(\"cmd10\")), $u.internal.reificationSupport.selectTerm($m.staticModule(\"cmd10\").asModule.moduleClass, \"INSTANCE\")), $u.internal.reificationSupport.selectTerm($m.staticClass(\"cmd10\"), \"$ref$cmd0\")), $u.internal.reificationSupport.selectType($u.internal.reificationSupport.selectType($m.staticClass(\"cmd0\"), \"$user\"), \"C\"), immutable.this.Nil)\n",
      "      }\n",
      "    };\n",
      "    new $typecreator2()\n",
      "  })\n",
      "}: reflect.runtime.universe.WeakTypeTag[cmd10.INSTANCE.$ref$cmd0.C]))).++[String](scala.`package`.Iterator.apply[String](\" = \")).++[String](ammonite.pprint.PPrint.apply[cmd10.INSTANCE.$ref$cmd0.C]($user.x1)((new ammonite.pprint.PPrint[cmd10.INSTANCE.$ref$cmd0.C](ammonite.pprint.PPrinter.Literal, scala.this.Predef.implicitly[ammonite.pprint.Config](ReplBridge.shell.pprintConfig)): ammonite.pprint.PPrint[cmd10.INSTANCE.$ref$cmd0.C]))), scala.`package`.Iterator.apply[String](ReplBridge.shell.shellPPrint[Unit]($user.res10_2, \"res10_2\")((scala.reflect.runtime.`package`.universe.WeakTypeTag.Unit: reflect.runtime.universe.WeakTypeTag[Unit]))).++[String](scala.`package`.Iterator.apply[String](\" = \")).++[String](ammonite.pprint.PPrint.apply[Unit]($user.res10_2)((new ammonite.pprint.PPrint[Unit](ammonite.pprint.PPrinter.Literal, scala.this.Predef.implicitly[ammonite.pprint.Config](ReplBridge.shell.pprintConfig)): ammonite.pprint.PPrint[Unit]))), scala.`package`.Iterator.apply[String](ReplBridge.shell.shellPPrint[specialObjCmd9.Optional[Null]]($user.y, \"y\")(({\n",
      "  val $u: reflect.runtime.universe.type = scala.reflect.runtime.`package`.universe;\n",
      "  val $m: $u.Mirror = scala.reflect.runtime.`package`.universe.runtimeMirror(this.getClass().getClassLoader());\n",
      "  $u.TypeTag.apply[specialObjCmd9.Optional[Null]]($m, {\n",
      "    final class $typecreator3 extends TypeCreator {\n",
      "      def <init>(): $typecreator3 = {\n",
      "        $typecreator3.super.<init>();\n",
      "        ()\n",
      "      };\n",
      "      def apply[U <: scala.reflect.api.Universe with Singleton]($m$untyped: scala.reflect.api.Mirror[U]): U#Type = {\n",
      "        val $u: U = $m$untyped.universe;\n",
      "        val $m: $u.Mirror = $m$untyped.asInstanceOf[$u.Mirror];\n",
      "        $u.internal.reificationSupport.TypeRef($u.internal.reificationSupport.SingleType($u.internal.reificationSupport.thisPrefix($m.EmptyPackageClass), $m.staticModule(\"specialObjCmd9\")), $u.internal.reificationSupport.selectType($m.staticModule(\"specialObjCmd9\").asModule.moduleClass, \"Optional\"), scala.collection.immutable.List.apply[$u.Type]($m.staticClass(\"scala.Null\").asType.toTypeConstructor))\n",
      "      }\n",
      "    };\n",
      "    new $typecreator3()\n",
      "  })\n",
      "}: reflect.runtime.universe.WeakTypeTag[specialObjCmd9.Optional[Null]]))).++[String](scala.`package`.Iterator.apply[String](\" = \")).++[String](ammonite.pprint.PPrint.apply[specialObjCmd9.Optional[Null]]($user.y)((new ammonite.pprint.PPrint[specialObjCmd9.Optional[Null]](ammonite.pprint.PPrinter.Literal, scala.this.Predef.implicitly[ammonite.pprint.Config](ReplBridge.shell.pprintConfig)): ammonite.pprint.PPrint[specialObjCmd9.Optional[Null]]))), scala.`package`.Iterator.apply[String](ReplBridge.shell.shellPPrint[cmd10.INSTANCE.$ref$cmd0.C]($user.y1, \"y1\")(({\n",
      "  val $u: reflect.runtime.universe.type = scala.reflect.runtime.`package`.universe;\n",
      "  val $m: $u.Mirror = scala.reflect.runtime.`package`.universe.runtimeMirror(this.getClass().getClassLoader());\n",
      "  $u.TypeTag.apply[cmd10.INSTANCE.$ref$cmd0.C]($m, {\n",
      "    final class $typecreator4 extends TypeCreator {\n",
      "      def <init>(): $typecreator4 = {\n",
      "        $typecreator4.super.<init>();\n",
      "        ()\n",
      "      };\n",
      "      def apply[U <: scala.reflect.api.Universe with Singleton]($m$untyped: scala.reflect.api.Mirror[U]): U#Type = {\n",
      "        val $u: U = $m$untyped.universe;\n",
      "        val $m: $u.Mirror = $m$untyped.asInstanceOf[$u.Mirror];\n",
      "        $u.internal.reificationSupport.TypeRef($u.internal.reificationSupport.SingleType($u.internal.reificationSupport.SingleType($u.internal.reificationSupport.SingleType($u.internal.reificationSupport.thisPrefix($m.EmptyPackageClass), $m.staticModule(\"cmd10\")), $u.internal.reificationSupport.selectTerm($m.staticModule(\"cmd10\").asModule.moduleClass, \"INSTANCE\")), $u.internal.reificationSupport.selectTerm($m.staticClass(\"cmd10\"), \"$ref$cmd0\")), $u.internal.reificationSupport.selectType($u.internal.reificationSupport.selectType($m.staticClass(\"cmd0\"), \"$user\"), \"C\"), immutable.this.Nil)\n",
      "      }\n",
      "    };\n",
      "    new $typecreator4()\n",
      "  })\n",
      "}: reflect.runtime.universe.WeakTypeTag[cmd10.INSTANCE.$ref$cmd0.C]))).++[String](scala.`package`.Iterator.apply[String](\" = \")).++[String](ammonite.pprint.PPrint.apply[cmd10.INSTANCE.$ref$cmd0.C]($user.y1)((new ammonite.pprint.PPrint[cmd10.INSTANCE.$ref$cmd0.C](ammonite.pprint.PPrinter.Literal, scala.this.Predef.implicitly[ammonite.pprint.Config](ReplBridge.shell.pprintConfig)): ammonite.pprint.PPrint[cmd10.INSTANCE.$ref$cmd0.C]))), scala.`package`.Iterator.apply[String](ReplBridge.shell.shellPPrint[Unit]($user.res10_5, \"res10_5\")((scala.reflect.runtime.`package`.universe.WeakTypeTag.Unit: reflect.runtime.universe.WeakTypeTag[Unit]))).++[String](scala.`package`.Iterator.apply[String](\" = \")).++[String](ammonite.pprint.PPrint.apply[Unit]($user.res10_5)((new ammonite.pprint.PPrint[Unit](ammonite.pprint.PPrinter.Literal, scala.this.Predef.implicitly[ammonite.pprint.Config](ReplBridge.shell.pprintConfig)): ammonite.pprint.PPrint[Unit]))))\n",
      "    }\n",
      "  };\n",
      "  object cmd10 extends scala.AnyRef with Serializable {\n",
      "    def <init>(): cmd10.type = {\n",
      "      cmd10.super.<init>();\n",
      "      ()\n",
      "    };\n",
      "    private[this] val INSTANCE: cmd10 = new cmd10();\n",
      "    <synthetic> private def readResolve(): Object = cmd10\n",
      "  };\n",
      "  class cmd10 extends AnyRef with Serializable {\n",
      "    def <init>(): cmd10 = {\n",
      "      cmd10.super.<init>();\n",
      "      ()\n",
      "    };\n",
      "    private[this] val $ref$cmd0: cmd0.INSTANCE.$user.type = cmd0.INSTANCE.$user;\n",
      "    private[this] val $ref$cmd5: cmd5.INSTANCE.$user.type = cmd5.INSTANCE.$user;\n",
      "    import ammonite.api.IvyConstructor.{ArtifactIdExt, ResolverNameExt, GroupIdExt};\n",
      "    import specialObjCmd9.Optional;\n",
      "    import ReplBridge.shell.{load, publish, evidence, pprintConfig, interpreter};\n",
      "    import scala.language.experimental.macros;\n",
      "    import cmd10.this.$ref$cmd0.C;\n",
      "    import cmd10.this.$ref$cmd5.{y1, y, x1, x};\n",
      "    class $user extends AnyRef with Serializable {\n",
      "      def <init>(): cmd10.this.$user = {\n",
      "        $user.super.<init>();\n",
      "        ()\n",
      "      };\n",
      "      private[this] val x: specialObjCmd9.Optional[cmd10.this.$ref$cmd0.C] = new specialObjCmd9.Optional[cmd10.this.$ref$cmd0.C](new cmd10.this.$ref$cmd0.C());\n",
      "      private[this] val x1: cmd10.this.$ref$cmd0.C = (if (<isEmpty: error>)\n",
      "        new cmd10.this.$ref$cmd0.C()\n",
      "      else\n",
      "        <value: error>: cmd10.this.$ref$cmd0.C);\n",
      "      private[this] val res10_2: Unit = scala.this.Predef.println(scala.Tuple2.apply[specialObjCmd9.Optional[cmd10.this.$ref$cmd0.C], cmd10.this.$ref$cmd0.C]($user.this.x, $user.this.x1));\n",
      "      private[this] val y: specialObjCmd9.Optional[Null] = new specialObjCmd9.Optional[Null](null);\n",
      "      private[this] val y1: cmd10.this.$ref$cmd0.C = (if (<isEmpty: error>)\n",
      "        {\n",
      "          scala.this.Predef.println(\"hello\");\n",
      "          new cmd10.this.$ref$cmd0.C()\n",
      "        }\n",
      "      else\n",
      "        <value: error>: cmd10.this.$ref$cmd0.C);\n",
      "      private[this] val res10_5: Unit = scala.this.Predef.println(scala.Tuple2.apply[specialObjCmd9.Optional[Null], cmd10.this.$ref$cmd0.C]($user.this.y, $user.this.y1))\n",
      "    };\n",
      "    private[this] val $user: cmd10.this.$user = new cmd10.this.$user()\n",
      "  }\n",
      "}\n",
      "\n"
     ]
    },
    {
     "ename": "",
     "evalue": "",
     "output_type": "error",
     "traceback": [
      "Compilation Failed",
      "\u001b[31mMain.scala:61: not found: value isEmpty",
      "                val x = new Optional(new C) ; val x1 = x.getOrElse(new C) ; val res10_2 = (",
      "                                                                  ^\u001b[0m",
      "\u001b[31mMain.scala:63: not found: value isEmpty",
      ") ; val y = new Optional(null) ; val y1 = y.getOrElse({ println(\"hello\"); new C }) ; val res10_5 = (",
      "                                                     ^\u001b[0m"
     ]
    }
   ],
   "source": [
    "val x = new Optional(new C)\n",
    "val x1 = x.getOrElse(new C)\n",
    "println(x, x1)\n",
    "\n",
    "val y = new Optional(null)\n",
    "val y1 = y.getOrElse({ println(\"hello\"); new C })\n",
    "println(y, y1)"
   ]
  },
  {
   "cell_type": "markdown",
   "metadata": {},
   "source": [
    "The above error is expected."
   ]
  },
  {
   "cell_type": "markdown",
   "metadata": {},
   "source": [
    "### step 6: but how do we get to the \"this\" of the macro application? \n",
    "\n",
    "https://github.com/scalamacros/macrology201/commit/8af23202542f6e512641df62ac98ff49614babf2"
   ]
  },
  {
   "cell_type": "code",
   "execution_count": 14,
   "metadata": {
    "collapsed": true
   },
   "outputs": [
    {
     "name": "stdout",
     "output_type": "stream",
     "text": [
      "[[syntax trees at end of                     typer]] // Main.scala\n",
      "package <empty> {\n",
      "  object cmd10$Main extends scala.AnyRef {\n",
      "    def <init>(): cmd10$Main.type = {\n",
      "      cmd10$Main.super.<init>();\n",
      "      ()\n",
      "    };\n",
      "    import scala.language.experimental.macros;\n",
      "    import ReplBridge.shell.{load, publish, evidence, pprintConfig, interpreter};\n",
      "    import ammonite.api.IvyConstructor.{ArtifactIdExt, GroupIdExt, ResolverNameExt};\n",
      "    def $main(): Iterator[Iterator[String]] = {\n",
      "      val $user: cmd10.INSTANCE.$user.type = cmd10.INSTANCE.$user;\n",
      "      scala.`package`.Iterator.apply[Iterator[String]](scala.`package`.Iterator.apply[String](ReplBridge.shell.shellPPrint[Unit]($user.res10, \"res10\")((scala.reflect.runtime.`package`.universe.WeakTypeTag.Unit: reflect.runtime.universe.WeakTypeTag[Unit]))).++[String](scala.`package`.Iterator.apply[String](\" = \")).++[String](ammonite.pprint.PPrint.apply[Unit]($user.res10)((new ammonite.pprint.PPrint[Unit](ammonite.pprint.PPrinter.Literal, scala.this.Predef.implicitly[ammonite.pprint.Config](ReplBridge.shell.pprintConfig)): ammonite.pprint.PPrint[Unit]))))\n",
      "    }\n",
      "  };\n",
      "  object cmd10 extends scala.AnyRef with Serializable {\n",
      "    def <init>(): cmd10.type = {\n",
      "      cmd10.super.<init>();\n",
      "      ()\n",
      "    };\n",
      "    private[this] val INSTANCE: cmd10 = new cmd10();\n",
      "    <stable> <accessor> def INSTANCE: cmd10 = cmd10.this.INSTANCE;\n",
      "    <synthetic> private def readResolve(): Object = cmd10\n",
      "  };\n",
      "  class cmd10 extends AnyRef with Serializable {\n",
      "    def <init>(): cmd10 = {\n",
      "      cmd10.super.<init>();\n",
      "      ()\n",
      "    };\n",
      "    import scala.language.experimental.macros;\n",
      "    import ReplBridge.shell.{load, publish, evidence, pprintConfig, interpreter};\n",
      "    import ammonite.api.IvyConstructor.{ArtifactIdExt, GroupIdExt, ResolverNameExt};\n",
      "    class $user extends AnyRef with Serializable {\n",
      "      def <init>(): cmd10.this.$user = {\n",
      "        $user.super.<init>();\n",
      "        ()\n",
      "      };\n",
      "      private[this] val res10: Unit = {\n",
      "        <artifact> val qual$1: ammonite.api.Interpreter = ReplBridge.shell.interpreter;\n",
      "        <artifact> val x$1: Seq[String] @scala.reflect.internal.annotations.uncheckedBounds = qual$1.init$default$1;\n",
      "        qual$1.init(x$1)\n",
      "      };\n",
      "      <stable> <accessor> def res10: Unit = $user.this.res10\n",
      "    };\n",
      "    private[this] val $user: cmd10.this.$user = new cmd10.this.$user();\n",
      "    <stable> <accessor> def $user: cmd10.this.$user = cmd10.this.$user\n",
      "  }\n",
      "}\n",
      "\n"
     ]
    },
    {
     "data": {
      "text/plain": []
     },
     "metadata": {},
     "output_type": "display_data"
    }
   ],
   "source": [
    "interpreter.init()"
   ]
  },
  {
   "cell_type": "code",
   "execution_count": 15,
   "metadata": {
    "collapsed": false
   },
   "outputs": [
    {
     "data": {
      "text/plain": [
       "\u001b[32mimport \u001b[36mscala.language.experimental.macros\u001b[0m\n",
       "\u001b[32mimport \u001b[36mscala.reflect.macros.blackbox.Context\u001b[0m\n",
       "defined \u001b[32mclass \u001b[36mOptional\u001b[0m\n",
       "defined \u001b[32mclass \u001b[36mOptionalMacros\u001b[0m"
      ]
     },
     "metadata": {},
     "output_type": "display_data"
    }
   ],
   "source": [
    "import special.wrap.obj\n",
    "import scala.language.experimental.macros\n",
    "import scala.reflect.macros.blackbox.Context\n",
    "\n",
    "// Allocation-free option type for Scala\n",
    "// Inspired by https://github.com/arosenberger/nalloc\n",
    "\n",
    "final class Optional[+A >: Null](val value: A) extends AnyVal {\n",
    "  def get: A = value\n",
    "  def isEmpty = value == null\n",
    "  // @inline final def getOrElse[B >: A](alt: => B): B = if (isEmpty) alt else value\n",
    "  def getOrElse[B >: A](alt: => B): B = macro OptionalMacros.getOrElse\n",
    "  override def toString = if (isEmpty) \"<empty>\" else s\"$value\"\n",
    "}\n",
    "\n",
    "class OptionalMacros(val c: Context) {\n",
    "  def getOrElse(alt: c.Tree): c.Tree = {\n",
    "    import c.universe._\n",
    "    println(showCode(c.macroApplication))\n",
    "    q\"if (isEmpty) $alt else value\"\n",
    "  }\n",
    "}"
   ]
  },
  {
   "cell_type": "code",
   "execution_count": 16,
   "metadata": {
    "collapsed": false
   },
   "outputs": [
    {
     "name": "stdout",
     "output_type": "stream",
     "text": [
      "$user.this.x.getOrElse[cmd12.this.$ref$cmd0.C](new cmd12.this.$ref$cmd0.C())\n",
      "$user.this.y.getOrElse[cmd12.this.$ref$cmd0.C]({\n",
      "  scala.Predef.println(\"hello\");\n",
      "  new cmd12.this.$ref$cmd0.C()\n",
      "})\n"
     ]
    },
    {
     "ename": "",
     "evalue": "",
     "output_type": "error",
     "traceback": [
      "Compilation Failed",
      "\u001b[31mMain.scala:61: not found: value isEmpty",
      "                val x = new Optional(new C) ; val x1 = x.getOrElse(new C) ; val res12_2 = (",
      "                                                                  ^\u001b[0m",
      "\u001b[31mMain.scala:63: not found: value isEmpty",
      ") ; val y = new Optional(null) ; val y1 = y.getOrElse({ println(\"hello\"); new C }) ; val res12_5 = (",
      "                                                     ^\u001b[0m"
     ]
    }
   ],
   "source": [
    "val x = new Optional(new C)\n",
    "val x1 = x.getOrElse(new C)\n",
    "println(x, x1)\n",
    "\n",
    "val y = new Optional(null)\n",
    "val y1 = y.getOrElse({ println(\"hello\"); new C })\n",
    "println(y, y1)"
   ]
  },
  {
   "cell_type": "markdown",
   "metadata": {},
   "source": [
    "The above error is expected."
   ]
  },
  {
   "cell_type": "markdown",
   "metadata": {},
   "source": [
    "### step 7: let's use quasiquotes to extract the necessary info from c.macroApplication\n",
    "\n",
    "https://github.com/scalamacros/macrology201/commit/b83f2b7b117d8ae88c0d2d62b8edef71a0bcab9c"
   ]
  },
  {
   "cell_type": "code",
   "execution_count": 17,
   "metadata": {
    "collapsed": false
   },
   "outputs": [
    {
     "data": {
      "text/plain": [
       "\u001b[32mimport \u001b[36mscala.language.experimental.macros\u001b[0m\n",
       "\u001b[32mimport \u001b[36mscala.reflect.macros.blackbox.Context\u001b[0m\n",
       "defined \u001b[32mclass \u001b[36mOptional\u001b[0m\n",
       "defined \u001b[32mclass \u001b[36mOptionalMacros\u001b[0m"
      ]
     },
     "metadata": {},
     "output_type": "display_data"
    }
   ],
   "source": [
    "import special.wrap.obj\n",
    "import scala.language.experimental.macros\n",
    "import scala.reflect.macros.blackbox.Context\n",
    "\n",
    "// Allocation-free option type for Scala\n",
    "// Inspired by https://github.com/arosenberger/nalloc\n",
    "\n",
    "final class Optional[+A >: Null](val value: A) extends AnyVal {\n",
    "  def get: A = value\n",
    "  def isEmpty = value == null\n",
    "  // @inline final def getOrElse[B >: A](alt: => B): B = if (isEmpty) alt else value\n",
    "  def getOrElse[B >: A](alt: => B): B = macro OptionalMacros.getOrElse\n",
    "  override def toString = if (isEmpty) \"<empty>\" else s\"$value\"\n",
    "}\n",
    "\n",
    "class OptionalMacros(val c: Context) {\n",
    "  def getOrElse(alt: c.Tree): c.Tree = {\n",
    "    import c.universe._\n",
    "    val q\"$prefix.$_(..$args)\" = c.macroApplication\n",
    "    q\"if ($prefix.isEmpty) $alt else $prefix.value\"\n",
    "  }\n",
    "}"
   ]
  },
  {
   "cell_type": "code",
   "execution_count": 18,
   "metadata": {
    "collapsed": false
   },
   "outputs": [
    {
     "ename": "",
     "evalue": "",
     "output_type": "error",
     "traceback": [
      "Compilation Failed",
      "\u001b[31mMain.scala:61: macro implementation not found: getOrElse",
      "(the most common reason for that is that you cannot use macro implementations in the same compilation run that defines them)",
      "                val x = new Optional(new C) ; val x1 = x.getOrElse(new C) ; val res13_2 = (",
      "                                                                  ^\u001b[0m"
     ]
    }
   ],
   "source": [
    "val x = new Optional(new C)\n",
    "val x1 = x.getOrElse(new C)\n",
    "println(x, x1)\n",
    "\n",
    "val y = new Optional(null)\n",
    "val y1 = y.getOrElse({ println(\"hello\"); new C })\n",
    "println(y, y1)"
   ]
  },
  {
   "cell_type": "markdown",
   "metadata": {},
   "source": [
    "The above error is expected."
   ]
  },
  {
   "cell_type": "markdown",
   "metadata": {},
   "source": [
    "###  step 8: the MatchError hints that we forgot to match type args of the application\n",
    "\n",
    "https://github.com/scalamacros/macrology201/commit/e41a331faba25ae86074d2f62b6e1800f2853e01"
   ]
  },
  {
   "cell_type": "code",
   "execution_count": 19,
   "metadata": {
    "collapsed": false
   },
   "outputs": [
    {
     "data": {
      "text/plain": [
       "\u001b[32mimport \u001b[36mscala.language.experimental.macros\u001b[0m\n",
       "\u001b[32mimport \u001b[36mscala.reflect.macros.blackbox.Context\u001b[0m\n",
       "defined \u001b[32mclass \u001b[36mOptional\u001b[0m\n",
       "defined \u001b[32mclass \u001b[36mOptionalMacros\u001b[0m"
      ]
     },
     "metadata": {},
     "output_type": "display_data"
    }
   ],
   "source": [
    "import special.wrap.obj\n",
    "import scala.language.experimental.macros\n",
    "import scala.reflect.macros.blackbox.Context\n",
    "\n",
    "// Allocation-free option type for Scala\n",
    "// Inspired by https://github.com/arosenberger/nalloc\n",
    "\n",
    "final class Optional[+A >: Null](val value: A) extends AnyVal {\n",
    "  def get: A = value\n",
    "  def isEmpty = value == null\n",
    "  // @inline final def getOrElse[B >: A](alt: => B): B = if (isEmpty) alt else value\n",
    "  def getOrElse[B >: A](alt: => B): B = macro OptionalMacros.getOrElse\n",
    "  override def toString = if (isEmpty) \"<empty>\" else s\"$value\"\n",
    "}\n",
    "\n",
    "class OptionalMacros(val c: Context) {\n",
    "  def getOrElse(alt: c.Tree): c.Tree = {\n",
    "    import c.universe._\n",
    "    val q\"$prefix.$_[..$_](..$args)\" = c.macroApplication\n",
    "    q\"if ($prefix.isEmpty) $alt else $prefix.value\"\n",
    "  }\n",
    "}"
   ]
  },
  {
   "cell_type": "markdown",
   "metadata": {},
   "source": [
    "**FIXME ** jupyter-scala: compiler has to be re-initialized after a macro definition, with a line like the following. Automate this?"
   ]
  },
  {
   "cell_type": "code",
   "execution_count": 24,
   "metadata": {
    "collapsed": false
   },
   "outputs": [
    {
     "data": {
      "text/plain": []
     },
     "metadata": {},
     "output_type": "display_data"
    }
   ],
   "source": [
    "interpreter.init()"
   ]
  },
  {
   "cell_type": "code",
   "execution_count": 25,
   "metadata": {
    "collapsed": false
   },
   "outputs": [
    {
     "name": "stdout",
     "output_type": "stream",
     "text": [
      "(C,C)\n",
      "hello\n",
      "(<empty>,C)\n"
     ]
    },
    {
     "data": {
      "text/plain": [
       "\u001b[36mx\u001b[0m: \u001b[32mspecialObjCmd13.Optional[cmd17.INSTANCE.$ref$cmd0.C]\u001b[0m = C\n",
       "\u001b[36mx1\u001b[0m: \u001b[32mcmd17.INSTANCE.$ref$cmd0.C\u001b[0m = C\n",
       "\u001b[36my\u001b[0m: \u001b[32mspecialObjCmd13.Optional[Null]\u001b[0m = <empty>\n",
       "\u001b[36my1\u001b[0m: \u001b[32mcmd17.INSTANCE.$ref$cmd0.C\u001b[0m = C"
      ]
     },
     "metadata": {},
     "output_type": "display_data"
    }
   ],
   "source": [
    "val x = new Optional(new C)\n",
    "val x1 = x.getOrElse(new C)\n",
    "println(x, x1)\n",
    "\n",
    "val y = new Optional(null)\n",
    "val y1 = y.getOrElse({ println(\"hello\"); new C })\n",
    "println(y, y1)"
   ]
  },
  {
   "cell_type": "markdown",
   "metadata": {},
   "source": [
    "### step 9: we're not done yet, because we've accidentally changed the flow of control\n",
    "\n",
    "https://github.com/scalamacros/macrology201/commit/5b35118d5590969cd242aa3125f8f571e71ef156"
   ]
  },
  {
   "cell_type": "code",
   "execution_count": 26,
   "metadata": {
    "collapsed": false
   },
   "outputs": [
    {
     "name": "stdout",
     "output_type": "stream",
     "text": [
      "side-effect!\n",
      "side-effect!\n",
      "C\n"
     ]
    },
    {
     "data": {
      "text/plain": [
       "defined \u001b[32mfunction \u001b[36mx\u001b[0m"
      ]
     },
     "metadata": {},
     "output_type": "display_data"
    }
   ],
   "source": [
    "def x = { println(\"side-effect!\"); new Optional(new C) }\n",
    "println(x.getOrElse(new C))"
   ]
  },
  {
   "cell_type": "markdown",
   "metadata": {},
   "source": [
    "### step 10: introducing a temporary variable fixes the control flow issue \n",
    "\n",
    "https://github.com/scalamacros/macrology201/commit/bc0b22ed908bf31bede1bc235c864ac403feb170"
   ]
  },
  {
   "cell_type": "code",
   "execution_count": 27,
   "metadata": {
    "collapsed": false
   },
   "outputs": [
    {
     "data": {
      "text/plain": [
       "\u001b[32mimport \u001b[36mscala.language.experimental.macros\u001b[0m\n",
       "\u001b[32mimport \u001b[36mscala.reflect.macros.blackbox.Context\u001b[0m\n",
       "defined \u001b[32mclass \u001b[36mOptional\u001b[0m\n",
       "defined \u001b[32mclass \u001b[36mOptionalMacros\u001b[0m"
      ]
     },
     "metadata": {},
     "output_type": "display_data"
    }
   ],
   "source": [
    "import special.wrap.obj\n",
    "import scala.language.experimental.macros\n",
    "import scala.reflect.macros.blackbox.Context\n",
    "\n",
    "// Allocation-free option type for Scala\n",
    "// Inspired by https://github.com/arosenberger/nalloc\n",
    "\n",
    "final class Optional[+A >: Null](val value: A) extends AnyVal {\n",
    "  def get: A = value\n",
    "  def isEmpty = value == null\n",
    "  // @inline final def getOrElse[B >: A](alt: => B): B = if (isEmpty) alt else value\n",
    "  def getOrElse[B >: A](alt: => B): B = macro OptionalMacros.getOrElse\n",
    "  override def toString = if (isEmpty) \"<empty>\" else s\"$value\"\n",
    "}\n",
    "\n",
    "class OptionalMacros(val c: Context) {\n",
    "  def getOrElse(alt: c.Tree): c.Tree = {\n",
    "    import c.universe._\n",
    "    val q\"$prefix.$_[..$_](..$args)\" = c.macroApplication\n",
    "    q\"\"\"\n",
    "      val temp = $prefix\n",
    "      if (temp.isEmpty) $alt else temp.value\n",
    "    \"\"\"\n",
    "  }\n",
    "}"
   ]
  },
  {
   "cell_type": "code",
   "execution_count": 28,
   "metadata": {
    "collapsed": false
   },
   "outputs": [
    {
     "data": {
      "text/plain": []
     },
     "metadata": {},
     "output_type": "display_data"
    }
   ],
   "source": [
    "interpreter.init() // FIXME jupyter-scala: see comment above"
   ]
  },
  {
   "cell_type": "code",
   "execution_count": 29,
   "metadata": {
    "collapsed": false
   },
   "outputs": [
    {
     "name": "stdout",
     "output_type": "stream",
     "text": [
      "side-effect!\n",
      "C\n"
     ]
    },
    {
     "data": {
      "text/plain": [
       "defined \u001b[32mfunction \u001b[36mx\u001b[0m"
      ]
     },
     "metadata": {},
     "output_type": "display_data"
    }
   ],
   "source": [
    "def x = { println(\"side-effect!\"); new Optional(new C) }\n",
    "println(x.getOrElse(new C))"
   ]
  },
  {
   "cell_type": "markdown",
   "metadata": {},
   "source": [
    "### step 11: let's try to hack our macro by inducing a name clash\n",
    "\n",
    "https://github.com/scalamacros/macrology201/commit/3e8322208a0de705544fde84b521a7900b347b2c"
   ]
  },
  {
   "cell_type": "code",
   "execution_count": 30,
   "metadata": {
    "collapsed": false
   },
   "outputs": [
    {
     "name": "stdout",
     "output_type": "stream",
     "text": [
      "[[syntax trees at end of                     typer]] // Main.scala\n",
      "package <empty> {\n",
      "  object $dummy extends scala.AnyRef {\n",
      "    def <init>(): $dummy.type = {\n",
      "      $dummy.super.<init>();\n",
      "      ()\n",
      "    }\n",
      "  }\n",
      "}\n",
      "\n"
     ]
    },
    {
     "data": {
      "text/plain": []
     },
     "metadata": {},
     "output_type": "display_data"
    }
   ],
   "source": [
    "interpreter.init(Seq(\"-Xprint:typer\"))"
   ]
  },
  {
   "cell_type": "code",
   "execution_count": 31,
   "metadata": {
    "collapsed": true
   },
   "outputs": [
    {
     "name": "stdout",
     "output_type": "stream",
     "text": [
      "[[syntax trees at end of                     typer]] // Main.scala\n",
      "package <empty> {\n",
      "  object cmd23$Main extends scala.AnyRef {\n",
      "    def <init>(): cmd23$Main.type = {\n",
      "      cmd23$Main.super.<init>();\n",
      "      ()\n",
      "    };\n",
      "    private[this] val $ref$cmd0: cmd0.INSTANCE.$user.type = cmd0.INSTANCE.$user;\n",
      "    <stable> <accessor> def $ref$cmd0: cmd0.INSTANCE.$user.type = cmd23$Main.this.$ref$cmd0;\n",
      "    import ammonite.api.IvyConstructor.{ArtifactIdExt, GroupIdExt, ResolverNameExt};\n",
      "    import ReplBridge.shell.{load, publish, evidence, pprintConfig, interpreter};\n",
      "    import scala.language.experimental.macros;\n",
      "    import specialObjCmd19.Optional;\n",
      "    import cmd23$Main.this.$ref$cmd0.C;\n",
      "    def $main(): Iterator[Iterator[String]] = {\n",
      "      val $user: cmd23.INSTANCE.$user.type = cmd23.INSTANCE.$user;\n",
      "      scala.`package`.Iterator.apply[Iterator[String]](scala.`package`.Iterator.apply[String](ReplBridge.shell.shellPPrint[Int]($user.temp, \"temp\")((scala.reflect.runtime.`package`.universe.WeakTypeTag.Int: reflect.runtime.universe.WeakTypeTag[Int]))).++[String](scala.`package`.Iterator.apply[String](\" = \")).++[String](ammonite.pprint.PPrint.apply[Int]($user.temp)(pprint.this.PPrint.Contra[Int](pprint.this.PPrinter.IntRepr, ReplBridge.shell.pprintConfig))), scala.`package`.Iterator.apply[String](ReplBridge.shell.shellPPrint[Unit]($user.res23_1, \"res23_1\")((scala.reflect.runtime.`package`.universe.WeakTypeTag.Unit: reflect.runtime.universe.WeakTypeTag[Unit]))).++[String](scala.`package`.Iterator.apply[String](\" = \")).++[String](ammonite.pprint.PPrint.apply[Unit]($user.res23_1)((new ammonite.pprint.PPrint[Unit](ammonite.pprint.PPrinter.Literal, scala.this.Predef.implicitly[ammonite.pprint.Config](ReplBridge.shell.pprintConfig)): ammonite.pprint.PPrint[Unit]))))\n",
      "    }\n",
      "  };\n",
      "  object cmd23 extends scala.AnyRef with Serializable {\n",
      "    def <init>(): cmd23.type = {\n",
      "      cmd23.super.<init>();\n",
      "      ()\n",
      "    };\n",
      "    private[this] val INSTANCE: cmd23 = new cmd23();\n",
      "    <stable> <accessor> def INSTANCE: cmd23 = cmd23.this.INSTANCE;\n",
      "    <synthetic> private def readResolve(): Object = cmd23\n",
      "  };\n",
      "  class cmd23 extends AnyRef with Serializable {\n",
      "    def <init>(): cmd23 = {\n",
      "      cmd23.super.<init>();\n",
      "      ()\n",
      "    };\n",
      "    private[this] val $ref$cmd0: cmd0.INSTANCE.$user.type = cmd0.INSTANCE.$user;\n",
      "    <stable> <accessor> def $ref$cmd0: cmd0.INSTANCE.$user.type = cmd23.this.$ref$cmd0;\n",
      "    import ammonite.api.IvyConstructor.{ArtifactIdExt, GroupIdExt, ResolverNameExt};\n",
      "    import ReplBridge.shell.{load, publish, evidence, pprintConfig, interpreter};\n",
      "    import scala.language.experimental.macros;\n",
      "    import specialObjCmd19.Optional;\n",
      "    import cmd23.this.$ref$cmd0.C;\n",
      "    class $user extends AnyRef with Serializable {\n",
      "      def <init>(): cmd23.this.$user = {\n",
      "        $user.super.<init>();\n",
      "        ()\n",
      "      };\n",
      "      private[this] val temp: Int = 100;\n",
      "      <stable> <accessor> def temp: Int = $user.this.temp;\n",
      "      private[this] val res23_1: Unit = scala.this.Predef.println(({\n",
      "        val temp: specialObjCmd19.Optional[cmd23.this.$ref$cmd0.C] = new specialObjCmd19.Optional[cmd23.this.$ref$cmd0.C](if ($user.this.temp.<(100))\n",
      "          new cmd23.this.$ref$cmd0.C()\n",
      "        else\n",
      "          null);\n",
      "        if (temp.isEmpty)\n",
      "          new cmd23.this.$ref$cmd0.C()\n",
      "        else\n",
      "          temp.value\n",
      "      }: cmd23.this.$ref$cmd0.C));\n",
      "      <stable> <accessor> def res23_1: Unit = $user.this.res23_1\n",
      "    };\n",
      "    private[this] val $user: cmd23.this.$user = new cmd23.this.$user();\n",
      "    <stable> <accessor> def $user: cmd23.this.$user = cmd23.this.$user\n",
      "  }\n",
      "}\n",
      "\n",
      "C\n"
     ]
    },
    {
     "data": {
      "text/plain": [
       "\u001b[36mtemp\u001b[0m: \u001b[32mInt\u001b[0m = \u001b[32m100\u001b[0m"
      ]
     },
     "metadata": {},
     "output_type": "display_data"
    }
   ],
   "source": [
    "val temp = 100\n",
    "println(new Optional(if (temp < 100) new C else null).getOrElse(new C))"
   ]
  },
  {
   "cell_type": "markdown",
   "metadata": {},
   "source": [
    "### step 12: -uniqid explains the phenomenon we're observing \n",
    "\n",
    "https://github.com/scalamacros/macrology201/commit/e779e08a1d753c1997d97981da4fb75960817780"
   ]
  },
  {
   "cell_type": "code",
   "execution_count": 32,
   "metadata": {
    "collapsed": true
   },
   "outputs": [
    {
     "name": "stdout",
     "output_type": "stream",
     "text": [
      "[[syntax trees at end of                     typer]] // Main.scala\n",
      "package <empty> {\n",
      "  object cmd24$Main extends scala.AnyRef {\n",
      "    def <init>(): cmd24$Main.type = {\n",
      "      cmd24$Main.super.<init>();\n",
      "      ()\n",
      "    };\n",
      "    import scala.language.experimental.macros;\n",
      "    import ReplBridge.shell.{load, publish, evidence, pprintConfig, interpreter};\n",
      "    import ammonite.api.IvyConstructor.{ArtifactIdExt, GroupIdExt, ResolverNameExt};\n",
      "    def $main(): Iterator[Iterator[String]] = {\n",
      "      val $user: cmd24.INSTANCE.$user.type = cmd24.INSTANCE.$user;\n",
      "      scala.`package`.Iterator.apply[Iterator[String]](scala.`package`.Iterator.apply[String](ReplBridge.shell.shellPPrint[Unit]($user.res24, \"res24\")((scala.reflect.runtime.`package`.universe.WeakTypeTag.Unit: reflect.runtime.universe.WeakTypeTag[Unit]))).++[String](scala.`package`.Iterator.apply[String](\" = \")).++[String](ammonite.pprint.PPrint.apply[Unit]($user.res24)((new ammonite.pprint.PPrint[Unit](ammonite.pprint.PPrinter.Literal, scala.this.Predef.implicitly[ammonite.pprint.Config](ReplBridge.shell.pprintConfig)): ammonite.pprint.PPrint[Unit]))))\n",
      "    }\n",
      "  };\n",
      "  object cmd24 extends scala.AnyRef with Serializable {\n",
      "    def <init>(): cmd24.type = {\n",
      "      cmd24.super.<init>();\n",
      "      ()\n",
      "    };\n",
      "    private[this] val INSTANCE: cmd24 = new cmd24();\n",
      "    <stable> <accessor> def INSTANCE: cmd24 = cmd24.this.INSTANCE;\n",
      "    <synthetic> private def readResolve(): Object = cmd24\n",
      "  };\n",
      "  class cmd24 extends AnyRef with Serializable {\n",
      "    def <init>(): cmd24 = {\n",
      "      cmd24.super.<init>();\n",
      "      ()\n",
      "    };\n",
      "    import scala.language.experimental.macros;\n",
      "    import ReplBridge.shell.{load, publish, evidence, pprintConfig, interpreter};\n",
      "    import ammonite.api.IvyConstructor.{ArtifactIdExt, GroupIdExt, ResolverNameExt};\n",
      "    class $user extends AnyRef with Serializable {\n",
      "      def <init>(): cmd24.this.$user = {\n",
      "        $user.super.<init>();\n",
      "        ()\n",
      "      };\n",
      "      private[this] val res24: Unit = ReplBridge.shell.interpreter.init(collection.this.Seq.apply[String](\"-Xprint:typer\", \"-uniqid\"));\n",
      "      <stable> <accessor> def res24: Unit = $user.this.res24\n",
      "    };\n",
      "    private[this] val $user: cmd24.this.$user = new cmd24.this.$user();\n",
      "    <stable> <accessor> def $user: cmd24.this.$user = cmd24.this.$user\n",
      "  }\n",
      "}\n",
      "\n",
      "[[syntax trees at end of                     typer]] // Main.scala\n",
      "package <empty>#4 {\n",
      "  object $dummy#8858 extends scala#26.AnyRef#2767 {\n",
      "    def <init>#9102(): $dummy#8859.type = {\n",
      "      $dummy#8859.super.<init>#3110();\n",
      "      ()\n",
      "    }\n",
      "  }\n",
      "}\n",
      "\n"
     ]
    },
    {
     "data": {
      "text/plain": []
     },
     "metadata": {},
     "output_type": "display_data"
    }
   ],
   "source": [
    "interpreter.init(Seq(\"-Xprint:typer\", \"-uniqid\"))"
   ]
  },
  {
   "cell_type": "code",
   "execution_count": 33,
   "metadata": {
    "collapsed": true
   },
   "outputs": [
    {
     "name": "stdout",
     "output_type": "stream",
     "text": [
      "[[syntax trees at end of                     typer]] // Main.scala\n",
      "package <empty>#4 {\n",
      "  object cmd25$Main#28976 extends scala#26.AnyRef#2767 {\n",
      "    def <init>#28984(): cmd25$Main#28977.type = {\n",
      "      cmd25$Main#28977.super.<init>#3110();\n",
      "      ()\n",
      "    };\n",
      "    private[this] val $ref$cmd0#28986: cmd0#8702.INSTANCE#28998.$user#29005.type = cmd0#8702.INSTANCE#28998.$user#29005;\n",
      "    <stable> <accessor> def $ref$cmd0#28985: cmd0#8702.INSTANCE#28998.$user#29005.type = cmd25$Main#28977.this.$ref$cmd0#28986;\n",
      "    private[this] val $ref$cmd23#28988: cmd23#8354.INSTANCE#29010.$user#29020.type = cmd23#8354.INSTANCE#29010.$user#29020;\n",
      "    <stable> <accessor> def $ref$cmd23#28987: cmd23#8354.INSTANCE#29010.$user#29020.type = cmd25$Main#28977.this.$ref$cmd23#28988;\n",
      "    import ammonite#20.api#29024.IvyConstructor#29047.{ArtifactIdExt, GroupIdExt, ResolverNameExt};\n",
      "    import ReplBridge#8447.shell#29303.{load, publish, evidence, pprintConfig, interpreter};\n",
      "    import scala#26.language#2527.experimental#29350.macros;\n",
      "    import specialObjCmd19#8831.Optional;\n",
      "    import cmd25$Main#28977.this.$ref$cmd0#28985.C;\n",
      "    import cmd25$Main#28977.this.$ref$cmd23#28987.temp;\n",
      "    def $main#28995(): Iterator#5141[Iterator#5141[String#7795]] = {\n",
      "      val $user#29569: cmd25#28978.INSTANCE#29571.$user#29585.type = cmd25#28978.INSTANCE#29571.$user#29585;\n",
      "      scala#26.package#2551.Iterator#3027.apply#29741[Iterator#5141[String#7795]](scala#26.package#2551.Iterator#3027.apply#29741[String#7795](ReplBridge#8447.shell#29303.shellPPrint#29309[Int#1107]($user#29569.temp#29588, \"temp\")((scala#26.reflect#2749.runtime#2917.package#15683.universe#15782.WeakTypeTag#12188.Int#12196: reflect#2749.runtime#2917.universe#15782.WeakTypeTag#12173[Int#1107]))).++#29614[String#7795](scala#26.package#2551.Iterator#3027.apply#29741[String#230](\" = \")).++#29614[String#7795](ammonite#20.pprint#29026.PPrint#31209.apply#31635[Int#1107]($user#29569.temp#29588)(pprint#29027.this.PPrint#31209.Contra#31670[Int#1107](pprint#29027.this.PPrinter#31344.IntRepr#31781, ReplBridge#8447.shell#29303.pprintConfig#29323))), scala#26.package#2551.Iterator#3027.apply#29741[String#7795](ReplBridge#8447.shell#29303.shellPPrint#29309[Unit#2634]($user#29569.res25_1#29590, \"res25_1\")((scala#26.reflect#2749.runtime#2917.package#15683.universe#15782.WeakTypeTag#12188.Unit#12206: reflect#2749.runtime#2917.universe#15782.WeakTypeTag#12173[Unit#2634]))).++#29614[String#7795](scala#26.package#2551.Iterator#3027.apply#29741[String#230](\" = \")).++#29614[String#7795](ammonite#20.pprint#29026.PPrint#31209.apply#31635[Unit#2634]($user#29569.res25_1#29590)((new ammonite#21.pprint#29027.PPrint#31208[Unit#2634](ammonite#20.pprint#29026.PPrinter#31344.Literal#31774, scala#27.this.Predef#1747.implicitly#7832[ammonite#21.pprint#29027.Config#31325](ReplBridge#8447.shell#29303.pprintConfig#29323)): ammonite#21.pprint#29027.PPrint#31208[Unit#2634]))))\n",
      "    }\n",
      "  };\n",
      "  object cmd25#28978 extends scala#26.AnyRef#2767 with Serializable#1842 {\n",
      "    def <init>#29570(): cmd25#28979.type = {\n",
      "      cmd25#28979.super.<init>#3110();\n",
      "      ()\n",
      "    };\n",
      "    private[this] val INSTANCE#29572: cmd25#28980 = new cmd25#28980();\n",
      "    <stable> <accessor> def INSTANCE#29571: cmd25#28980 = cmd25#28979.this.INSTANCE#29572;\n",
      "    <synthetic> private def readResolve#32987(): Object#128 = cmd25#28978\n",
      "  };\n",
      "  class cmd25#28980 extends AnyRef#2767 with Serializable#1842 {\n",
      "    def <init>#29573(): cmd25#28980 = {\n",
      "      cmd25#28980.super.<init>#3110();\n",
      "      ()\n",
      "    };\n",
      "    private[this] val $ref$cmd0#29575: cmd0#8702.INSTANCE#28998.$user#29005.type = cmd0#8702.INSTANCE#28998.$user#29005;\n",
      "    <stable> <accessor> def $ref$cmd0#29574: cmd0#8702.INSTANCE#28998.$user#29005.type = cmd25#28980.this.$ref$cmd0#29575;\n",
      "    private[this] val $ref$cmd23#29577: cmd23#8354.INSTANCE#29010.$user#29020.type = cmd23#8354.INSTANCE#29010.$user#29020;\n",
      "    <stable> <accessor> def $ref$cmd23#29576: cmd23#8354.INSTANCE#29010.$user#29020.type = cmd25#28980.this.$ref$cmd23#29577;\n",
      "    import ammonite#20.api#29024.IvyConstructor#29047.{ArtifactIdExt, GroupIdExt, ResolverNameExt};\n",
      "    import ReplBridge#8447.shell#29303.{load, publish, evidence, pprintConfig, interpreter};\n",
      "    import scala#26.language#2527.experimental#29350.macros;\n",
      "    import specialObjCmd19#8831.Optional;\n",
      "    import cmd25#28980.this.$ref$cmd0#29574.C;\n",
      "    import cmd25#28980.this.$ref$cmd23#29576.temp;\n",
      "    class $user#29584 extends AnyRef#2767 with Serializable#1842 {\n",
      "      def <init>#29587(): cmd25#28980.this.$user#29584 = {\n",
      "        $user#29584.super.<init>#3110();\n",
      "        ()\n",
      "      };\n",
      "      private[this] val temp#29589: Int#1107 = 100;\n",
      "      <stable> <accessor> def temp#29588: Int#1107 = $user#29584.this.temp#29589;\n",
      "      private[this] val res25_1#29591: Unit#2634 = scala#27.this.Predef#1747.println#8019(({\n",
      "        val temp#32930: specialObjCmd19#8831.Optional#29355[cmd25#28980.this.$ref$cmd0#29574.C#29002] = new specialObjCmd19#8831.Optional#29355[cmd25#28980.this.$ref$cmd0#29574.C#29002](if ($user#29584.this.temp#29588.<#17722(100))\n",
      "          new cmd25#28980.this.$ref$cmd0#29574.C#29002()\n",
      "        else\n",
      "          null);\n",
      "        if (temp#32930.isEmpty#29362)\n",
      "          new cmd25#28980.this.$ref$cmd0#29574.C#29002()\n",
      "        else\n",
      "          temp#32930.value#29356\n",
      "      }: cmd25#28980.this.$ref$cmd0#29574.C#29002));\n",
      "      <stable> <accessor> def res25_1#29590: Unit#2634 = $user#29584.this.res25_1#29591\n",
      "    };\n",
      "    private[this] val $user#29586: cmd25#28980.this.$user#29584 = new cmd25#28980.this.$user#29584();\n",
      "    <stable> <accessor> def $user#29585: cmd25#28980.this.$user#29584 = cmd25#28980.this.$user#29586\n",
      "  }\n",
      "}\n",
      "\n",
      "C\n"
     ]
    },
    {
     "data": {
      "text/plain": [
       "\u001b[36mtemp\u001b[0m: \u001b[32mInt\u001b[0m = \u001b[32m100\u001b[0m"
      ]
     },
     "metadata": {},
     "output_type": "display_data"
    }
   ],
   "source": [
    "val temp = 100\n",
    "println(new Optional(if (temp < 100) new C else null).getOrElse(new C))"
   ]
  },
  {
   "cell_type": "markdown",
   "metadata": {},
   "source": [
    "###  step 13: however it is good practice to give generated variables unique names anyway\n",
    "\n",
    "https://github.com/scalamacros/macrology201/commit/927535b020bede2bbd5c635f20916f761d7b7d89"
   ]
  },
  {
   "cell_type": "code",
   "execution_count": 34,
   "metadata": {
    "collapsed": false
   },
   "outputs": [
    {
     "name": "stdout",
     "output_type": "stream",
     "text": [
      "[[syntax trees at end of                     typer]] // Main.scala\n",
      "package <empty>#4 {\n",
      "  import ammonite#20.api#29024.IvyConstructor#29047.{ArtifactIdExt, GroupIdExt, ResolverNameExt};\n",
      "  import scala#26.reflect#2749.macros#2915.blackbox#29560.Context;\n",
      "  import ReplBridge#8447.shell#29303.{load, publish, evidence, pprintConfig, interpreter};\n",
      "  import scala#26.language#2527.experimental#29350.macros;\n",
      "  import specialObjCmd19#8831.OptionalMacros;\n",
      "  object specialObjCmd26$Main#43981 extends scala#26.AnyRef#2767 {\n",
      "    def <init>#43991(): specialObjCmd26$Main#43982.type = {\n",
      "      specialObjCmd26$Main#43982.super.<init>#3110();\n",
      "      ()\n",
      "    };\n",
      "    def $main#43992(): Iterator#5141[Iterator#5141[String#7795]] = {\n",
      "      val $user#43995: specialObjCmd26#43983.type = specialObjCmd26#43983;\n",
      "      scala#26.package#2551.Iterator#3027.apply#29741[Iterator#5141[String#7795]](scala#26.package#2551.Iterator#3027.apply#29741[String#7795](ReplBridge#8447.shell#29303.shellPrintImport#29317(\"scala.language.experimental.macros\")), scala#26.package#2551.Iterator#3027.apply#29741[String#7795](ReplBridge#8447.shell#29303.shellPrintImport#29317(\"scala.reflect.macros.blackbox.Context\")), scala#26.package#2551.Iterator#3027.apply#29741[String#7795](ReplBridge#8447.shell#29303.shellPrintDef#29314(\"class\", \"Optional\")), scala#26.package#2551.Iterator#3027.apply#29741[String#7795](ReplBridge#8447.shell#29303.shellPrintDef#29314(\"class\", \"OptionalMacros\")))\n",
      "    }\n",
      "  };\n",
      "  object specialObjCmd26#43983 extends scala#26.AnyRef#2767 {\n",
      "    def <init>#43996(): specialObjCmd26#43984.type = {\n",
      "      specialObjCmd26#43984.super.<init>#3110();\n",
      "      ()\n",
      "    };\n",
      "    import scala#26.language#2527.experimental#29350.macros;\n",
      "    import scala#26.reflect#2749.macros#2915.blackbox#29560.Context;\n",
      "    final class Optional#43999[+A#44000 >: Null#5864] extends scala#26.AnyVal#2337 {\n",
      "      <paramaccessor> private[this] val value#44088: A#44000 = _;\n",
      "      <stable> <accessor> <paramaccessor> def value#44087: A#44000 = Optional#43999.this.value#44088;\n",
      "      def <init>#44089(value#44099: A#44000): specialObjCmd26#43984.Optional#43999[A#44000] = {\n",
      "        Optional#43999.super.<init>#17611();\n",
      "        ()\n",
      "      };\n",
      "      def get#44090: A#44000 = Optional#43999.this.value#44087;\n",
      "      def isEmpty#44091: Boolean#2529 = Optional#43999.this.value#44087.==#5866(null);\n",
      "      @scala#27.reflect#2750.macros#2916.internal#29559.macroImpl#29566(`macro`(\"macroEngine\" = \"v7.0 (implemented in Scala 2.11.0-M8)\", \"isBundle\" = true, \"isBlackbox\" = true, \"className\" = \"specialObjCmd26$OptionalMacros\", \"methodName\" = \"getOrElse\", \"signature\" = List#17420(List#17420(-3)))) <macro> def getOrElse#44092[B#44093 >: A#44000](alt#44100: => B#44094): B#44093 = new specialObjCmd26#43984.this.OptionalMacros#44001(null).getOrElse#44108;\n",
      "      override def toString#44095: String#230 = if (Optional#43999.this.isEmpty#44091)\n",
      "        \"<empty>\"\n",
      "      else\n",
      "        scala#26.StringContext#742.apply#14918(\"\", \"\").s#14881(Optional#43999.this.value#44087);\n",
      "      override <synthetic> def hashCode#44785(): Int#1107 = Optional#43999.this.value#44087.hashCode#5872();\n",
      "      override <synthetic> def equals#44786(x$1#44787: Any#695): Boolean#2529 = x$1#44787 match {\n",
      "  case (_: specialObjCmd26#43984.Optional#43999[A#44000]) => true\n",
      "  case _ => false\n",
      "}.&&#17631({\n",
      "        <synthetic> val Optional$1#44788: specialObjCmd26#43984.Optional#43999[A#44000] = x$1#44787.asInstanceOf#5877[specialObjCmd26#43984.Optional#43999[A#44000]];\n",
      "        Optional#43999.this.value#44087.==#5866(Optional$1#44788.value#44087)\n",
      "      })\n",
      "    };\n",
      "    <synthetic> object Optional#44096 extends AnyRef#2767 {\n",
      "      def <init>#46120(): specialObjCmd26#43984.Optional#44097.type = {\n",
      "        Optional#44097.super.<init>#3110();\n",
      "        ()\n",
      "      }\n",
      "    };\n",
      "    class OptionalMacros#44001 extends scala#26.AnyRef#2767 {\n",
      "      <paramaccessor> private[this] val c#44106: scala#27.reflect#2750.macros#2916.blackbox#29561.Context#43988 = _;\n",
      "      <stable> <accessor> <paramaccessor> def c#44105: scala#27.reflect#2750.macros#2916.blackbox#29561.Context#43988 = OptionalMacros#44001.this.c#44106;\n",
      "      def <init>#44107(c#44109: scala#27.reflect#2750.macros#2916.blackbox#29561.Context#43988): specialObjCmd26#43984.OptionalMacros#44001 = {\n",
      "        OptionalMacros#44001.super.<init>#3110();\n",
      "        ()\n",
      "      };\n",
      "      def getOrElse#44108(alt#44389: OptionalMacros#44001.this.c#44105.Tree#44121): OptionalMacros#44001.this.c#44105.Tree#44121 = {\n",
      "        import OptionalMacros#44001.this.c#44105.universe#44110._;\n",
      "        <synthetic> <artifact> private[this] val x$1#44793: (OptionalMacros#44001.this.c#44105.universe#44110.Tree#10995, List#3031[OptionalMacros#44001.this.c#44105.universe#44110.Tree#10995]) = (OptionalMacros#44001.this.c#44105.macroApplication#44166: OptionalMacros#44001.this.c#44105.Tree#44121 @unchecked#1608) match {\n",
      "          case {\n",
      "  final class $anon#45588 extends scala#26.AnyRef#2767 {\n",
      "    def <init>#45589(): <$anon: AnyRef#2767> = {\n",
      "      $anon#45588.super.<init>#3110();\n",
      "      ()\n",
      "    };\n",
      "    def unapply#45590(tree#45591: Any#695): Option#1941[(OptionalMacros#44001.this.c#44105.universe#44110.Tree#10995, OptionalMacros#44001.this.c#44105.universe#44110.TermName#10957, List#3031[OptionalMacros#44001.this.c#44105.universe#44110.Tree#10995], List#3031[OptionalMacros#44001.this.c#44105.universe#44110.Tree#10995])] = tree#45591 match {\n",
      "      case OptionalMacros#44001.this.c#44105.universe#44110.TreeTag#12419.unapply#26045(<unapply-selector>#45966) <unapply> (OptionalMacros#44001.this.c#44105.universe#44110.internal#13986.reificationSupport#13990.SyntacticApplied#14149.unapply#14154(<unapply-selector>#45594) <unapply> (OptionalMacros#44001.this.c#44105.universe#44110.TreeTag#12419.unapply#26045(<unapply-selector>#45904) <unapply> (OptionalMacros#44001.this.c#44105.universe#44110.internal#13986.reificationSupport#13990.SyntacticTypeApplied#14141.unapply#14146(<unapply-selector>#45694) <unapply> (OptionalMacros#44001.this.c#44105.universe#44110.TreeTag#12419.unapply#26045(<unapply-selector>#45710) <unapply> (OptionalMacros#44001.this.c#44105.universe#44110.internal#13986.reificationSupport#13990.SyntacticSelectTerm#14370.unapply#14375(<unapply-selector>#45700) <unapply> ((qq$81b38b92$macro$1#45705 @ _), (qq$81b38b92$macro$2#45707 @ _))), (qq$81b38b92$macro$3#45901 @ _))), (head#45939: List#3031[OptionalMacros#44001.this.c#44105.universe#44110.Tree#10995], tl#45940: List#17419[List#3031[OptionalMacros#44001.this.c#44105.universe#44110.Tree#10995]])scala#27.collection#2758.immutable#5845.::#17344[List#3031[OptionalMacros#44001.this.c#44105.universe#44110.Tree#10995]]((qq$81b38b92$macro$4#45941 @ _), scala#26.collection#2757.immutable#5844.Nil#16637))) => Some#1444.apply#40895[(OptionalMacros#44001.this.c#44105.universe#44110.Tree#10995, OptionalMacros#44001.this.c#44105.universe#44110.TermName#10957, List#3031[OptionalMacros#44001.this.c#44105.universe#44110.Tree#10995], List#3031[OptionalMacros#44001.this.c#44105.universe#44110.Tree#10995])](scala#26.Tuple4#2275.apply#45572[OptionalMacros#44001.this.c#44105.universe#44110.Tree#10995, OptionalMacros#44001.this.c#44105.universe#44110.TermName#10957, List#3031[OptionalMacros#44001.this.c#44105.universe#44110.Tree#10995], List#3031[OptionalMacros#44001.this.c#44105.universe#44110.Tree#10995]](qq$81b38b92$macro$1#45705, qq$81b38b92$macro$2#45707, qq$81b38b92$macro$3#45901, qq$81b38b92$macro$4#45941))\n",
      "      case _ => None#2725\n",
      "    }\n",
      "  };\n",
      "  new $anon#45588()\n",
      "}.unapply#45590(<unapply-selector>#45512) <unapply> ((prefix#46044 @ _), _, _, (args#46045 @ _)) => scala#26.Tuple2#1720.apply#25957[OptionalMacros#44001.this.c#44105.universe#44110.Tree#10995, List#3031[OptionalMacros#44001.this.c#44105.universe#44110.Tree#10995]](prefix#46044, args#46045)\n",
      "        };\n",
      "        val prefix#44794: OptionalMacros#44001.this.c#44105.universe#44110.Tree#10995 = x$1#44793._1#25928;\n",
      "        val args#44795: List#3031[OptionalMacros#44001.this.c#44105.universe#44110.Tree#10995] = x$1#44793._2#25930;\n",
      "        val temp0#44796: OptionalMacros#44001.this.c#44105.universe#44110.TermName#10957 = OptionalMacros#44001.this.c#44105.freshName#44227[OptionalMacros#44001.this.c#44105.universe#44110.TermName#10957](OptionalMacros#44001.this.c#44105.universe#44110.TermName#10979.apply#10982(\"temp\"));\n",
      "        OptionalMacros#44001.this.c#44105.universe#44110.internal#13986.reificationSupport#13990.SyntacticBlock#14210.apply#14212(scala#26.collection#2757.immutable#5844.List#17420.apply#25905[OptionalMacros#44001.this.c#44105.universe#44110.Tree#10995 with OptionalMacros#44001.this.c#44105.universe#44110.TreeApi#10996](OptionalMacros#44001.this.c#44105.universe#44110.internal#13986.reificationSupport#13990.SyntacticValDef#14250.apply#14252(OptionalMacros#44001.this.c#44105.universe#44110.NoMods#12030, temp0#44796, OptionalMacros#44001.this.c#44105.universe#44110.internal#13986.reificationSupport#13990.SyntacticEmptyTypeTree#14294.apply#14296(), prefix#44794), OptionalMacros#44001.this.c#44105.universe#44110.If#11425.apply#11428(OptionalMacros#44001.this.c#44105.universe#44110.internal#13986.reificationSupport#13990.SyntacticSelectTerm#14370.apply#14372(OptionalMacros#44001.this.c#44105.universe#44110.internal#13986.reificationSupport#13990.SyntacticTermIdent#14342.apply#14344(temp0#44796, false), OptionalMacros#44001.this.c#44105.universe#44110.TermName#10979.apply#10982(\"isEmpty\")), alt#44389, OptionalMacros#44001.this.c#44105.universe#44110.internal#13986.reificationSupport#13990.SyntacticSelectTerm#14370.apply#14372(OptionalMacros#44001.this.c#44105.universe#44110.internal#13986.reificationSupport#13990.SyntacticTermIdent#14342.apply#14344(temp0#44796, false), OptionalMacros#44001.this.c#44105.universe#44110.TermName#10979.apply#10982(\"value\")))))\n",
      "      }\n",
      "    }\n",
      "  }\n",
      "}\n",
      "\n"
     ]
    },
    {
     "data": {
      "text/plain": [
       "\u001b[32mimport \u001b[36mscala.language.experimental.macros\u001b[0m\n",
       "\u001b[32mimport \u001b[36mscala.reflect.macros.blackbox.Context\u001b[0m\n",
       "defined \u001b[32mclass \u001b[36mOptional\u001b[0m\n",
       "defined \u001b[32mclass \u001b[36mOptionalMacros\u001b[0m"
      ]
     },
     "metadata": {},
     "output_type": "display_data"
    }
   ],
   "source": [
    "// FIXME jupyter-scala: temp was changed to temp0\n",
    "//                      Having the same name as the temp variable defined above trigger an import of it along\n",
    "//                      this code, and things go wrong (which ones?).\n",
    "\n",
    "import special.wrap.obj\n",
    "import scala.language.experimental.macros\n",
    "import scala.reflect.macros.blackbox.Context\n",
    "\n",
    "// Allocation-free option type for Scala\n",
    "// Inspired by https://github.com/arosenberger/nalloc\n",
    "\n",
    "final class Optional[+A >: Null](val value: A) extends AnyVal {\n",
    "  def get: A = value\n",
    "  def isEmpty = value == null\n",
    "  // @inline final def getOrElse[B >: A](alt: => B): B = if (isEmpty) alt else value\n",
    "  def getOrElse[B >: A](alt: => B): B = macro OptionalMacros.getOrElse\n",
    "  override def toString = if (isEmpty) \"<empty>\" else s\"$value\"\n",
    "}\n",
    "\n",
    "class OptionalMacros(val c: Context) {\n",
    "  def getOrElse(alt: c.Tree): c.Tree = {\n",
    "    import c.universe._\n",
    "    val q\"$prefix.$_[..$_](..$args)\" = c.macroApplication\n",
    "    val temp0 = c.freshName(TermName(\"temp\"))\n",
    "    q\"\"\"\n",
    "      val $temp0 = $prefix\n",
    "      if ($temp0.isEmpty) $alt else $temp0.value\n",
    "    \"\"\"\n",
    "  }\n",
    "}"
   ]
  },
  {
   "cell_type": "code",
   "execution_count": 35,
   "metadata": {
    "collapsed": true
   },
   "outputs": [
    {
     "name": "stdout",
     "output_type": "stream",
     "text": [
      "[[syntax trees at end of                     typer]] // Main.scala\n",
      "package <empty>#4 {\n",
      "  object cmd27$Main#57638 extends scala#26.AnyRef#2767 {\n",
      "    def <init>#57646(): cmd27$Main#57639.type = {\n",
      "      cmd27$Main#57639.super.<init>#3110();\n",
      "      ()\n",
      "    };\n",
      "    import scala#26.language#2527.experimental#29350.macros;\n",
      "    import ReplBridge#8447.shell#29303.{load, publish, evidence, pprintConfig, interpreter};\n",
      "    import ammonite#20.api#29024.IvyConstructor#29047.{ArtifactIdExt, GroupIdExt, ResolverNameExt};\n",
      "    def $main#57650(): Iterator#5141[Iterator#5141[String#7795]] = {\n",
      "      val $user#57653: cmd27#57640.INSTANCE#57655.$user#57662.type = cmd27#57640.INSTANCE#57655.$user#57662;\n",
      "      scala#26.package#2551.Iterator#3027.apply#29741[Iterator#5141[String#7795]](scala#26.package#2551.Iterator#3027.apply#29741[String#7795](ReplBridge#8447.shell#29303.shellPPrint#29309[Unit#2634]($user#57653.res27#57665, \"res27\")((scala#26.reflect#2749.runtime#2917.package#15683.universe#15782.WeakTypeTag#12188.Unit#12206: reflect#2749.runtime#2917.universe#15782.WeakTypeTag#12173[Unit#2634]))).++#29614[String#7795](scala#26.package#2551.Iterator#3027.apply#29741[String#230](\" = \")).++#29614[String#7795](ammonite#20.pprint#29026.PPrint#31209.apply#31635[Unit#2634]($user#57653.res27#57665)((new ammonite#21.pprint#29027.PPrint#31208[Unit#2634](ammonite#20.pprint#29026.PPrinter#31344.Literal#31774, scala#27.this.Predef#1747.implicitly#7832[ammonite#21.pprint#29027.Config#31325](ReplBridge#8447.shell#29303.pprintConfig#29323)): ammonite#21.pprint#29027.PPrint#31208[Unit#2634]))))\n",
      "    }\n",
      "  };\n",
      "  object cmd27#57640 extends scala#26.AnyRef#2767 with Serializable#1842 {\n",
      "    def <init>#57654(): cmd27#57641.type = {\n",
      "      cmd27#57641.super.<init>#3110();\n",
      "      ()\n",
      "    };\n",
      "    private[this] val INSTANCE#57656: cmd27#57642 = new cmd27#57642();\n",
      "    <stable> <accessor> def INSTANCE#57655: cmd27#57642 = cmd27#57641.this.INSTANCE#57656;\n",
      "    <synthetic> private def readResolve#57962(): Object#128 = cmd27#57640\n",
      "  };\n",
      "  class cmd27#57642 extends AnyRef#2767 with Serializable#1842 {\n",
      "    def <init>#57657(): cmd27#57642 = {\n",
      "      cmd27#57642.super.<init>#3110();\n",
      "      ()\n",
      "    };\n",
      "    import scala#26.language#2527.experimental#29350.macros;\n",
      "    import ReplBridge#8447.shell#29303.{load, publish, evidence, pprintConfig, interpreter};\n",
      "    import ammonite#20.api#29024.IvyConstructor#29047.{ArtifactIdExt, GroupIdExt, ResolverNameExt};\n",
      "    class $user#57661 extends AnyRef#2767 with Serializable#1842 {\n",
      "      def <init>#57664(): cmd27#57642.this.$user#57661 = {\n",
      "        $user#57661.super.<init>#3110();\n",
      "        ()\n",
      "      };\n",
      "      private[this] val res27#57666: Unit#2634 = {\n",
      "        <artifact> val qual$1#57745: ammonite#21.api#29025.Interpreter#29088 = ReplBridge#8447.shell#29303.interpreter#29322;\n",
      "        <artifact> val x$1#57746: Seq#3017[String#7795] @scala#27.reflect#2750.internal#2922.annotations#50565.uncheckedBounds#50572 = qual$1#57745.init$default$1#31586;\n",
      "        qual$1#57745.init#31567(x$1#57746)\n",
      "      };\n",
      "      <stable> <accessor> def res27#57665: Unit#2634 = $user#57661.this.res27#57666\n",
      "    };\n",
      "    private[this] val $user#57663: cmd27#57642.this.$user#57661 = new cmd27#57642.this.$user#57661();\n",
      "    <stable> <accessor> def $user#57662: cmd27#57642.this.$user#57661 = cmd27#57642.this.$user#57663\n",
      "  }\n",
      "}\n",
      "\n"
     ]
    },
    {
     "data": {
      "text/plain": []
     },
     "metadata": {},
     "output_type": "display_data"
    }
   ],
   "source": [
    "interpreter.init()"
   ]
  },
  {
   "cell_type": "code",
   "execution_count": 36,
   "metadata": {
    "collapsed": false
   },
   "outputs": [
    {
     "name": "stdout",
     "output_type": "stream",
     "text": [
      "C\n"
     ]
    },
    {
     "data": {
      "text/plain": [
       "\u001b[36mtemp\u001b[0m: \u001b[32mInt\u001b[0m = \u001b[32m100\u001b[0m"
      ]
     },
     "metadata": {},
     "output_type": "display_data"
    }
   ],
   "source": [
    "val temp = 100\n",
    "println(new Optional(if (temp < 100) new C else null).getOrElse(new C))"
   ]
  },
  {
   "cell_type": "markdown",
   "metadata": {},
   "source": [
    "###  step 14: there's another source for name clash problems that we haven't explored yet\n",
    "\n",
    "https://github.com/scalamacros/macrology201/commit/e0fff91a10eb74fe1b1c849a2cd477efce4cc5a7"
   ]
  },
  {
   "cell_type": "code",
   "execution_count": 37,
   "metadata": {
    "collapsed": false
   },
   "outputs": [
    {
     "data": {
      "text/plain": [
       "\u001b[32mimport \u001b[36mscala.language.experimental.macros\u001b[0m\n",
       "\u001b[32mimport \u001b[36mscala.reflect.macros.blackbox.Context\u001b[0m\n",
       "defined \u001b[32mclass \u001b[36mOptional\u001b[0m\n",
       "defined \u001b[32mobject \u001b[36mOptional\u001b[0m\n",
       "defined \u001b[32mclass \u001b[36mOptionalMacros\u001b[0m"
      ]
     },
     "metadata": {},
     "output_type": "display_data"
    }
   ],
   "source": [
    "// FIXME jupyter-scala: temp was changed to temp0, and x to x0\n",
    "\n",
    "import special.wrap.obj\n",
    "import scala.language.experimental.macros\n",
    "import scala.reflect.macros.blackbox.Context\n",
    "\n",
    "// Allocation-free option type for Scala\n",
    "// Inspired by https://github.com/arosenberger/nalloc\n",
    "\n",
    "final class Optional[+A >: Null](val value: A) extends AnyVal {\n",
    "  def get: A = value\n",
    "  def isEmpty = value == null\n",
    "  // @inline final def getOrElse[B >: A](alt: => B): B = if (isEmpty) alt else value\n",
    "  def getOrElse[B >: A](alt: => B): B = macro OptionalMacros.getOrElse\n",
    "  override def toString = if (isEmpty) \"<empty>\" else s\"$value\"\n",
    "}\n",
    "\n",
    "object Optional {\n",
    "  def ensuringNotNull[A](x0: A): A = {\n",
    "    if (x0 == null) sys.error(\"argument to Optional.getOrElse can't be null\")\n",
    "    x0\n",
    "  }\n",
    "}\n",
    "\n",
    "class OptionalMacros(val c: Context) {\n",
    "  def getOrElse(alt: c.Tree): c.Tree = {\n",
    "    import c.universe._\n",
    "    val q\"$prefix.$_[..$_](..$args)\" = c.macroApplication\n",
    "    val temp0 = c.freshName(TermName(\"temp\"))\n",
    "    q\"\"\"\n",
    "      val $temp0 = $prefix\n",
    "      if ($temp0.isEmpty) Optional.ensuringNotNull($alt) else $temp0.value\n",
    "    \"\"\"\n",
    "  }\n",
    "}"
   ]
  },
  {
   "cell_type": "code",
   "execution_count": 38,
   "metadata": {
    "collapsed": false,
    "scrolled": true
   },
   "outputs": [
    {
     "data": {
      "text/plain": []
     },
     "metadata": {},
     "output_type": "display_data"
    }
   ],
   "source": [
    "interpreter.init() // FIXME jupyter-scala: see comment above"
   ]
  },
  {
   "cell_type": "code",
   "execution_count": 39,
   "metadata": {
    "collapsed": false
   },
   "outputs": [
    {
     "ename": "",
     "evalue": "",
     "output_type": "error",
     "traceback": [
      "java.lang.RuntimeException: argument to Optional.getOrElse can't be null",
      "\tscala.sys.package$.error(package.scala:27)",
      "\tspecialObjCmd29$Optional$.ensuringNotNull(Main.scala:31)"
     ]
    }
   ],
   "source": [
    "println(new Optional(null).getOrElse(null))"
   ]
  },
  {
   "cell_type": "markdown",
   "metadata": {},
   "source": [
    "The above error is expected."
   ]
  },
  {
   "cell_type": "markdown",
   "metadata": {},
   "source": [
    "###  step 15: refs to externally defined identifiers typically ask for trouble\n",
    "\n",
    "https://github.com/scalamacros/macrology201/commit/a2b2743f1e568b233b073b35fc45ab47c9efff1d"
   ]
  },
  {
   "cell_type": "code",
   "execution_count": 40,
   "metadata": {
    "collapsed": false
   },
   "outputs": [
    {
     "ename": "",
     "evalue": "",
     "output_type": "error",
     "traceback": [
      "Compilation Failed",
      "\u001b[31mMain.scala:46: value ensuringNotNull is not a member of String",
      "println(new Optional(null).getOrElse(null))",
      "                                    ^\u001b[0m"
     ]
    }
   ],
   "source": [
    "val Optional = \"uh-oh\"\n",
    "println(new Optional(null).getOrElse(null))"
   ]
  },
  {
   "cell_type": "markdown",
   "metadata": {},
   "source": [
    "The above error is expected."
   ]
  },
  {
   "cell_type": "markdown",
   "metadata": {},
   "source": [
    "### step 16: the only reliable solution here is to use fully-qualified names\n",
    "### step 17: unfortunately this doesn't always work \n",
    "\n",
    "https://github.com/scalamacros/macrology201/commit/da4aacfb058dfdcad94c5dea0cc37ce5907465f2\n",
    "https://github.com/scalamacros/macrology201/commit/92eb6550f9119a920a6226de9cf35899b4d6b4e2"
   ]
  },
  {
   "cell_type": "code",
   "execution_count": 48,
   "metadata": {
    "collapsed": false
   },
   "outputs": [
    {
     "data": {
      "text/plain": [
       "\u001b[32mimport \u001b[36mscala.language.experimental.macros\u001b[0m\n",
       "\u001b[32mimport \u001b[36mscala.reflect.macros.blackbox.Context\u001b[0m\n",
       "defined \u001b[32mclass \u001b[36mOptional\u001b[0m\n",
       "defined \u001b[32mobject \u001b[36mOptional\u001b[0m\n",
       "defined \u001b[32mclass \u001b[36mOptionalMacros\u001b[0m"
      ]
     },
     "metadata": {},
     "output_type": "display_data"
    }
   ],
   "source": [
    "// FIXME jupyter-scala: temp was changed to temp0, and x to x0\n",
    "// FIXME jupyter-scala: _root_. ... to reference a just defined type won't work, because the lines are \"wrapped\"\n",
    "//                      inside a parent class. How to address that?\n",
    "\n",
    "import special.wrap.obj\n",
    "import scala.language.experimental.macros\n",
    "import scala.reflect.macros.blackbox.Context\n",
    "\n",
    "// Allocation-free option type for Scala\n",
    "// Inspired by https://github.com/arosenberger/nalloc\n",
    "\n",
    "final class Optional[+A >: Null](val value: A) extends AnyVal {\n",
    "  def get: A = value\n",
    "  def isEmpty = value == null\n",
    "  // @inline final def getOrElse[B >: A](alt: => B): B = if (isEmpty) alt else value\n",
    "  def getOrElse[B >: A](alt: => B): B = macro OptionalMacros.getOrElse\n",
    "  override def toString = if (isEmpty) \"<empty>\" else s\"$value\"\n",
    "}\n",
    "\n",
    "object Optional {\n",
    "  def ensuringNotNull[A](x0: A): A = {\n",
    "    if (x0 == null) sys.error(\"argument to Optional.getOrElse can't be null\")\n",
    "    x0\n",
    "  }\n",
    "}\n",
    "\n",
    "class OptionalMacros(val c: Context) {\n",
    "  def getOrElse(alt: c.Tree): c.Tree = {\n",
    "    import c.universe._\n",
    "    val q\"$prefix.$_[..$_](..$args)\" = c.macroApplication\n",
    "    val temp0 = c.freshName(TermName(\"temp\"))\n",
    "    val Optional = q\"_root_.Optional\" // FIXME jupyter-scala: no the right prefix because of wrapping\n",
    "    q\"\"\"\n",
    "      val $temp0 = $prefix\n",
    "      if ($temp0.isEmpty) $Optional.ensuringNotNull($alt) else $temp0.value\n",
    "    \"\"\"\n",
    "  }\n",
    "}"
   ]
  },
  {
   "cell_type": "code",
   "execution_count": null,
   "metadata": {
    "collapsed": false,
    "scrolled": true
   },
   "outputs": [],
   "source": [
    "interpreter.init() // FIXME jupyter-scala: see comment above"
   ]
  },
  {
   "cell_type": "code",
   "execution_count": null,
   "metadata": {
    "collapsed": false
   },
   "outputs": [],
   "source": [
    "val Optional = \"uh-oh\"\n",
    "println(new Optional(null).getOrElse(null))"
   ]
  },
  {
   "cell_type": "markdown",
   "metadata": {},
   "source": [
    "The above error is expected, but the prefix of `Optional` in the macro is wrong because of wrapping in jupyter-scala, so it would fail for other reasons, wasn't for the main error."
   ]
  },
  {
   "cell_type": "code",
   "execution_count": null,
   "metadata": {
    "collapsed": true
   },
   "outputs": [],
   "source": [
    "fff"
   ]
  }
 ],
 "metadata": {
  "kernelspec": {
   "display_name": "Apache Toree - Scala",
   "language": "scala",
   "name": "apache_toree_scala"
  },
  "language_info": {
   "codemirror_mode": "text/x-scala",
   "file_extension": ".scala",
   "mimetype": "text/x-scala",
   "name": "scala211",
   "pygments_lexer": "scala",
   "version": "2.11.6"
  }
 },
 "nbformat": 4,
 "nbformat_minor": 0
}
